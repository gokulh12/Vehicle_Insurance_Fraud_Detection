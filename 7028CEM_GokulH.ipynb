{
 "cells": [
  {
   "cell_type": "code",
   "execution_count": 32,
   "id": "3c0f6852-028e-433b-aab1-95d4e4a3ee47",
   "metadata": {},
   "outputs": [],
   "source": [
    "import pyspark"
   ]
  },
  {
   "cell_type": "code",
   "execution_count": 33,
   "id": "ff074883",
   "metadata": {},
   "outputs": [],
   "source": [
    "from pyspark.sql import SparkSession"
   ]
  },
  {
   "cell_type": "code",
   "execution_count": 34,
   "id": "cdb82fea",
   "metadata": {},
   "outputs": [],
   "source": [
    "spark = SparkSession.builder.appName('vehicle_ins').getOrCreate()"
   ]
  },
  {
   "cell_type": "code",
   "execution_count": 35,
   "id": "1fae007f",
   "metadata": {},
   "outputs": [],
   "source": [
    "spark.conf.set(\"spark.sql.repl.eagerEval\", True)"
   ]
  },
  {
   "cell_type": "code",
   "execution_count": 36,
   "id": "f9b29544",
   "metadata": {},
   "outputs": [],
   "source": [
    "df_vehicle = spark.read.csv('vehicle_ins.csv', inferSchema = True, header = True)"
   ]
  },
  {
   "cell_type": "code",
   "execution_count": 37,
   "id": "dcf49c1d",
   "metadata": {},
   "outputs": [
    {
     "data": {
      "text/html": [
       "<style>pre { white-space: pre !important; }</style>"
      ],
      "text/plain": [
       "<IPython.core.display.HTML object>"
      ]
     },
     "metadata": {},
     "output_type": "display_data"
    }
   ],
   "source": [
    "from IPython.core.display import HTML\n",
    "display(HTML(\"<style>pre { white-space: pre !important; }</style>\"))"
   ]
  },
  {
   "cell_type": "code",
   "execution_count": 38,
   "id": "f28d3f02",
   "metadata": {
    "scrolled": false
   },
   "outputs": [
    {
     "name": "stdout",
     "output_type": "stream",
     "text": [
      "+-----+-----------+---------+---------+------------+----------------+------------+------------------+------+-------------+---+-------------+--------------------+---------------+---------------+------------+------------+---------+----------+------------+--------------------+-----------------+------------------+------------+-----------------+-----------------+--------------+---------+-------------------+-------------------+------------+----+----------+\n",
      "|Month|WeekOfMonth|DayOfWeek|     Make|AccidentArea|DayOfWeekClaimed|MonthClaimed|WeekOfMonthClaimed|   Sex|MaritalStatus|Age|        Fault|          PolicyType|VehicleCategory|   VehiclePrice|FraudFound_P|PolicyNumber|RepNumber|Deductible|DriverRating|Days_Policy_Accident|Days_Policy_Claim|PastNumberOfClaims|AgeOfVehicle|AgeOfPolicyHolder|PoliceReportFiled|WitnessPresent|AgentType|NumberOfSuppliments|AddressChange_Claim|NumberOfCars|Year|BasePolicy|\n",
      "+-----+-----------+---------+---------+------------+----------------+------------+------------------+------+-------------+---+-------------+--------------------+---------------+---------------+------------+------------+---------+----------+------------+--------------------+-----------------+------------------+------------+-----------------+-----------------+--------------+---------+-------------------+-------------------+------------+----+----------+\n",
      "|  Dec|          5|Wednesday|    Honda|       Urban|         Tuesday|         Jan|                 1|Female|       Single| 21|Policy Holder|   Sport - Liability|          Sport|more than 69000|           0|           1|       12|       300|           1|        more than 30|     more than 30|              none|     3 years|         26 to 30|               No|            No| External|               none|             1 year|      3 to 4|1994| Liability|\n",
      "|  Jan|          3|Wednesday|    Honda|       Urban|          Monday|         Jan|                 4|  Male|       Single| 34|Policy Holder|   Sport - Collision|          Sport|more than 69000|           0|           2|       15|       400|           4|        more than 30|     more than 30|              none|     6 years|         31 to 35|              Yes|            No| External|               none|          no change|   1 vehicle|1994| Collision|\n",
      "|  Oct|          5|   Friday|    Honda|       Urban|        Thursday|         Nov|                 2|  Male|      Married| 47|Policy Holder|   Sport - Collision|          Sport|more than 69000|           0|           3|        7|       400|           3|        more than 30|     more than 30|                 1|     7 years|         41 to 50|               No|            No| External|               none|          no change|   1 vehicle|1994| Collision|\n",
      "|  Jun|          2| Saturday|   Toyota|       Rural|          Friday|         Jul|                 1|  Male|      Married| 65|  Third Party|   Sedan - Liability|          Sport| 20000 to 29000|           0|           4|        4|       400|           2|        more than 30|     more than 30|                 1| more than 7|         51 to 65|              Yes|            No| External|        more than 5|          no change|   1 vehicle|1994| Liability|\n",
      "|  Jan|          5|   Monday|    Honda|       Urban|         Tuesday|         Feb|                 2|Female|       Single| 27|  Third Party|   Sport - Collision|          Sport|more than 69000|           0|           5|        3|       400|           1|        more than 30|     more than 30|              none|     5 years|         31 to 35|               No|            No| External|               none|          no change|   1 vehicle|1994| Collision|\n",
      "|  Oct|          4|   Friday|    Honda|       Urban|       Wednesday|         Nov|                 1|  Male|       Single| 20|  Third Party|   Sport - Collision|          Sport|more than 69000|           0|           6|       12|       400|           3|        more than 30|     more than 30|              none|     5 years|         21 to 25|               No|            No| External|             3 to 5|          no change|   1 vehicle|1994| Collision|\n",
      "|  Feb|          1| Saturday|    Honda|       Urban|          Monday|         Feb|                 3|  Male|      Married| 36|  Third Party|   Sport - Collision|          Sport|more than 69000|           0|           7|       14|       400|           1|        more than 30|     more than 30|                 1|     7 years|         36 to 40|               No|            No| External|             1 to 2|          no change|   1 vehicle|1994| Collision|\n",
      "|  Nov|          1|   Friday|    Honda|       Urban|         Tuesday|         Mar|                 4|  Male|       Single|  0|Policy Holder|   Sport - Collision|          Sport|more than 69000|           0|           8|        1|       400|           4|        more than 30|     more than 30|                 1|         new|         16 to 17|               No|            No| External|               none|          no change|   1 vehicle|1994| Collision|\n",
      "|  Dec|          4| Saturday|    Honda|       Urban|       Wednesday|         Dec|                 5|  Male|       Single| 30|Policy Holder|   Sport - Collision|          Sport|more than 69000|           0|           9|        7|       400|           4|        more than 30|     more than 30|              none|     6 years|         31 to 35|               No|           Yes| External|             3 to 5|          no change|   1 vehicle|1994| Collision|\n",
      "|  Apr|          3|  Tuesday|     Ford|       Urban|       Wednesday|         Apr|                 3|  Male|      Married| 42|Policy Holder|Utility - All Perils|        Utility|more than 69000|           0|          10|        7|       400|           1|        more than 30|     more than 30|            2 to 4| more than 7|         36 to 40|               No|            No| External|             3 to 5|          no change|   1 vehicle|1994|All Perils|\n",
      "|  Mar|          2|   Sunday|    Mazda|       Urban|       Wednesday|         Mar|                 3|  Male|       Single| 71|Policy Holder|  Sedan - All Perils|          Sedan|more than 69000|           0|          11|        7|       400|           3|        more than 30|     more than 30|              none| more than 7|          over 65|               No|            No| External|               none|          no change|   1 vehicle|1994|All Perils|\n",
      "|  Mar|          5|   Monday|    Honda|       Urban|          Monday|         Mar|                 5|  Male|      Married| 52|Policy Holder|   Sedan - Liability|          Sport| 20000 to 29000|           0|          12|       13|       400|           1|        more than 30|     more than 30|            2 to 4| more than 7|         41 to 50|               No|            No| External|               none|          no change|   1 vehicle|1994| Liability|\n",
      "|  Jan|          3|   Friday|     Ford|       Urban|          Friday|         Jan|                 3|  Male|      Married| 28|Policy Holder|   Sedan - Liability|          Sport|more than 69000|           0|          13|       11|       400|           1|        more than 30|     more than 30|                 1|     7 years|         31 to 35|               No|            No| External|               none|          no change|   1 vehicle|1994| Liability|\n",
      "|  Jan|          5|   Friday|    Honda|       Rural|       Wednesday|         Feb|                 1|  Male|       Single|  0|  Third Party|   Sedan - Collision|          Sedan|more than 69000|           0|          14|       12|       400|           3|        more than 30|     more than 30|              none|         new|         16 to 17|               No|            No| External|               none|          no change|   1 vehicle|1994| Collision|\n",
      "|  Jan|          5|   Monday|     Ford|       Urban|        Thursday|         Feb|                 1|  Male|      Married| 61|Policy Holder|   Sedan - Liability|          Sport|more than 69000|           0|          15|        3|       400|           1|        more than 30|     more than 30|              none| more than 7|         51 to 65|               No|            No| External|               none|          no change|   1 vehicle|1994| Liability|\n",
      "|  Aug|          4|  Tuesday|     Ford|       Urban|          Monday|         Aug|                 5|  Male|       Single| 38|Policy Holder|   Sedan - Liability|          Sport|more than 69000|           0|          16|       16|       400|           1|        more than 30|     more than 30|              none|     6 years|         36 to 40|               No|            No| External|               none|          no change|   1 vehicle|1994| Liability|\n",
      "|  Apr|          4| Thursday|     Ford|       Urban|       Wednesday|         May|                 1|  Male|      Married| 41|Policy Holder|  Sedan - All Perils|          Sedan|more than 69000|           0|          17|       15|       400|           4|        more than 30|     more than 30|              none|     7 years|         36 to 40|               No|            No| External|               none|          no change|   1 vehicle|1994|All Perils|\n",
      "|  Jul|          5|   Sunday|Chevrolet|       Urban|       Wednesday|         Aug|                 1|Female|      Married| 28|  Third Party|   Sedan - Collision|          Sedan| 20000 to 29000|           0|          18|        6|       400|           1|        more than 30|     more than 30|              none|     7 years|         31 to 35|               No|            No| External|             1 to 2|          no change|   1 vehicle|1994| Collision|\n",
      "|  May|          4| Thursday|  Pontiac|       Urban|          Monday|         May|                 5|  Male|       Single| 32|Policy Holder|   Sedan - Liability|          Sport| 20000 to 29000|           0|          19|        6|       400|           1|        more than 30|     more than 30|                 1|     7 years|         31 to 35|               No|            No| External|               none|          no change|   1 vehicle|1994| Liability|\n",
      "|  Apr|          4|   Monday|    Honda|       Urban|         Tuesday|         May|                 1|  Male|      Married| 30|  Third Party|   Sedan - Liability|          Sport|more than 69000|           0|          20|        2|       400|           2|        more than 30|     more than 30|            2 to 4|     6 years|         31 to 35|               No|            No| External|        more than 5|          no change|   1 vehicle|1994| Liability|\n",
      "+-----+-----------+---------+---------+------------+----------------+------------+------------------+------+-------------+---+-------------+--------------------+---------------+---------------+------------+------------+---------+----------+------------+--------------------+-----------------+------------------+------------+-----------------+-----------------+--------------+---------+-------------------+-------------------+------------+----+----------+\n",
      "only showing top 20 rows\n",
      "\n"
     ]
    }
   ],
   "source": [
    "df_vehicle.show()"
   ]
  },
  {
   "cell_type": "code",
   "execution_count": 39,
   "id": "7dbeb6f4",
   "metadata": {},
   "outputs": [
    {
     "name": "stdout",
     "output_type": "stream",
     "text": [
      "(15420, 33)\n"
     ]
    }
   ],
   "source": [
    "print((df_vehicle.count(), len(df_vehicle.columns)))"
   ]
  },
  {
   "cell_type": "markdown",
   "id": "b9a7f46b",
   "metadata": {},
   "source": [
    "Checking for Null values"
   ]
  },
  {
   "cell_type": "code",
   "execution_count": 69,
   "id": "d0797bda",
   "metadata": {
    "scrolled": true
   },
   "outputs": [
    {
     "name": "stdout",
     "output_type": "stream",
     "text": [
      "+-----+-----------+---------+----+------------+----------------+------------+------------------+---+-------------+---+-----+----------+---------------+------------+------------+------------+---------+----------+------------+--------------------+-----------------+------------------+------------+-----------------+-----------------+--------------+---------+-------------------+-------------------+------------+----+----------+\n",
      "|Month|WeekOfMonth|DayOfWeek|Make|AccidentArea|DayOfWeekClaimed|MonthClaimed|WeekOfMonthClaimed|Sex|MaritalStatus|Age|Fault|PolicyType|VehicleCategory|VehiclePrice|FraudFound_P|PolicyNumber|RepNumber|Deductible|DriverRating|Days_Policy_Accident|Days_Policy_Claim|PastNumberOfClaims|AgeOfVehicle|AgeOfPolicyHolder|PoliceReportFiled|WitnessPresent|AgentType|NumberOfSuppliments|AddressChange_Claim|NumberOfCars|Year|BasePolicy|\n",
      "+-----+-----------+---------+----+------------+----------------+------------+------------------+---+-------------+---+-----+----------+---------------+------------+------------+------------+---------+----------+------------+--------------------+-----------------+------------------+------------+-----------------+-----------------+--------------+---------+-------------------+-------------------+------------+----+----------+\n",
      "|    0|          0|        0|   0|           0|               0|           0|                 0|  0|            0|  0|    0|         0|              0|           0|           0|           0|        0|         0|           0|                   0|                0|                 0|           0|                0|                0|             0|        0|                  0|                  0|           0|   0|         0|\n",
      "+-----+-----------+---------+----+------------+----------------+------------+------------------+---+-------------+---+-----+----------+---------------+------------+------------+------------+---------+----------+------------+--------------------+-----------------+------------------+------------+-----------------+-----------------+--------------+---------+-------------------+-------------------+------------+----+----------+\n",
      "\n"
     ]
    }
   ],
   "source": [
    "from pyspark.sql.functions import isnull, when, count, col\n",
    "\n",
    "df_vehicle.select([count(when(isnan(c) | col(c).isNull(), c)).alias(c) for c in df_vehicle.columns]).show()"
   ]
  },
  {
   "cell_type": "markdown",
   "id": "2de68bac",
   "metadata": {},
   "source": [
    "See all the distinct values in every column"
   ]
  },
  {
   "cell_type": "code",
   "execution_count": 41,
   "id": "44c04430",
   "metadata": {
    "scrolled": false
   },
   "outputs": [
    {
     "name": "stdout",
     "output_type": "stream",
     "text": [
      "+-----+\n",
      "|Month|\n",
      "+-----+\n",
      "|  Oct|\n",
      "|  Sep|\n",
      "|  Dec|\n",
      "|  Aug|\n",
      "|  May|\n",
      "|  Jun|\n",
      "|  Feb|\n",
      "|  Nov|\n",
      "|  Mar|\n",
      "|  Jan|\n",
      "|  Apr|\n",
      "|  Jul|\n",
      "+-----+\n",
      "\n",
      "+-----------+\n",
      "|WeekOfMonth|\n",
      "+-----------+\n",
      "|          1|\n",
      "|          3|\n",
      "|          5|\n",
      "|          4|\n",
      "|          2|\n",
      "+-----------+\n",
      "\n",
      "+---------+\n",
      "|DayOfWeek|\n",
      "+---------+\n",
      "|Wednesday|\n",
      "|  Tuesday|\n",
      "|   Friday|\n",
      "| Thursday|\n",
      "| Saturday|\n",
      "|   Monday|\n",
      "|   Sunday|\n",
      "+---------+\n",
      "\n",
      "+---------+\n",
      "|     Make|\n",
      "+---------+\n",
      "|    Lexus|\n",
      "|   Jaguar|\n",
      "|   Saturn|\n",
      "|   Nisson|\n",
      "|   Porche|\n",
      "|Chevrolet|\n",
      "|     Saab|\n",
      "|    Honda|\n",
      "|  Pontiac|\n",
      "|  Mercury|\n",
      "|      BMW|\n",
      "|   Accura|\n",
      "|  Ferrari|\n",
      "|       VW|\n",
      "|  Mecedes|\n",
      "|   Toyota|\n",
      "|    Dodge|\n",
      "|    Mazda|\n",
      "|     Ford|\n",
      "+---------+\n",
      "\n",
      "+------------+\n",
      "|AccidentArea|\n",
      "+------------+\n",
      "|       Urban|\n",
      "|       Rural|\n",
      "+------------+\n",
      "\n",
      "+----------------+\n",
      "|DayOfWeekClaimed|\n",
      "+----------------+\n",
      "|       Wednesday|\n",
      "|         Tuesday|\n",
      "|               0|\n",
      "|          Friday|\n",
      "|        Thursday|\n",
      "|        Saturday|\n",
      "|          Monday|\n",
      "|          Sunday|\n",
      "+----------------+\n",
      "\n",
      "+------------+\n",
      "|MonthClaimed|\n",
      "+------------+\n",
      "|         Oct|\n",
      "|         Sep|\n",
      "|         Dec|\n",
      "|           0|\n",
      "|         Aug|\n",
      "|         May|\n",
      "|         Jun|\n",
      "|         Feb|\n",
      "|         Nov|\n",
      "|         Mar|\n",
      "|         Jan|\n",
      "|         Apr|\n",
      "|         Jul|\n",
      "+------------+\n",
      "\n",
      "+------------------+\n",
      "|WeekOfMonthClaimed|\n",
      "+------------------+\n",
      "|                 1|\n",
      "|                 3|\n",
      "|                 5|\n",
      "|                 4|\n",
      "|                 2|\n",
      "+------------------+\n",
      "\n",
      "+------+\n",
      "|   Sex|\n",
      "+------+\n",
      "|Female|\n",
      "|  Male|\n",
      "+------+\n",
      "\n",
      "+-------------+\n",
      "|MaritalStatus|\n",
      "+-------------+\n",
      "|      Married|\n",
      "|        Widow|\n",
      "|     Divorced|\n",
      "|       Single|\n",
      "+-------------+\n",
      "\n",
      "+---+\n",
      "|Age|\n",
      "+---+\n",
      "| 31|\n",
      "| 65|\n",
      "| 53|\n",
      "| 78|\n",
      "| 34|\n",
      "| 28|\n",
      "| 76|\n",
      "| 27|\n",
      "| 26|\n",
      "| 44|\n",
      "| 22|\n",
      "| 47|\n",
      "| 52|\n",
      "| 16|\n",
      "| 20|\n",
      "| 40|\n",
      "| 57|\n",
      "| 54|\n",
      "| 48|\n",
      "| 19|\n",
      "| 64|\n",
      "| 41|\n",
      "| 43|\n",
      "| 37|\n",
      "| 61|\n",
      "| 17|\n",
      "| 72|\n",
      "| 35|\n",
      "| 55|\n",
      "| 59|\n",
      "| 39|\n",
      "| 23|\n",
      "| 49|\n",
      "| 51|\n",
      "| 69|\n",
      "| 63|\n",
      "| 77|\n",
      "| 50|\n",
      "| 45|\n",
      "| 38|\n",
      "| 80|\n",
      "| 25|\n",
      "| 73|\n",
      "| 24|\n",
      "| 70|\n",
      "| 62|\n",
      "| 29|\n",
      "| 21|\n",
      "| 32|\n",
      "| 60|\n",
      "| 75|\n",
      "| 56|\n",
      "| 58|\n",
      "| 33|\n",
      "| 71|\n",
      "| 68|\n",
      "| 42|\n",
      "| 79|\n",
      "| 30|\n",
      "| 66|\n",
      "| 46|\n",
      "| 67|\n",
      "|  0|\n",
      "| 18|\n",
      "| 74|\n",
      "| 36|\n",
      "+---+\n",
      "\n",
      "+-------------+\n",
      "|        Fault|\n",
      "+-------------+\n",
      "|Policy Holder|\n",
      "|  Third Party|\n",
      "+-------------+\n",
      "\n",
      "+--------------------+\n",
      "|          PolicyType|\n",
      "+--------------------+\n",
      "|   Sedan - Liability|\n",
      "| Utility - Collision|\n",
      "|Utility - All Perils|\n",
      "|   Sedan - Collision|\n",
      "|  Sport - All Perils|\n",
      "|   Sport - Liability|\n",
      "| Utility - Liability|\n",
      "|  Sedan - All Perils|\n",
      "|   Sport - Collision|\n",
      "+--------------------+\n",
      "\n",
      "+---------------+\n",
      "|VehicleCategory|\n",
      "+---------------+\n",
      "|          Sedan|\n",
      "|        Utility|\n",
      "|          Sport|\n",
      "+---------------+\n",
      "\n",
      "+---------------+\n",
      "|   VehiclePrice|\n",
      "+---------------+\n",
      "| 30000 to 39000|\n",
      "| 60000 to 69000|\n",
      "| 40000 to 59000|\n",
      "|less than 20000|\n",
      "| 20000 to 29000|\n",
      "|more than 69000|\n",
      "+---------------+\n",
      "\n",
      "+------------+\n",
      "|FraudFound_P|\n",
      "+------------+\n",
      "|           1|\n",
      "|           0|\n",
      "+------------+\n",
      "\n",
      "+------------+\n",
      "|PolicyNumber|\n",
      "+------------+\n",
      "|         148|\n",
      "|         463|\n",
      "|         471|\n",
      "|         496|\n",
      "|         833|\n",
      "|        1088|\n",
      "|        1238|\n",
      "|        1342|\n",
      "|        1580|\n",
      "|        1591|\n",
      "|        1645|\n",
      "|        1829|\n",
      "|        1959|\n",
      "|        2122|\n",
      "|        2142|\n",
      "|        2366|\n",
      "|        2659|\n",
      "|        2866|\n",
      "|        3175|\n",
      "|        3749|\n",
      "|        3794|\n",
      "|        3918|\n",
      "|        3997|\n",
      "|        4101|\n",
      "|        4519|\n",
      "|        4818|\n",
      "|        4900|\n",
      "|        4935|\n",
      "|        5156|\n",
      "|        5300|\n",
      "|        5518|\n",
      "|        5803|\n",
      "|        6336|\n",
      "|        6357|\n",
      "|        6397|\n",
      "|        6466|\n",
      "|        6620|\n",
      "|        6654|\n",
      "|        6658|\n",
      "|        7240|\n",
      "|        7253|\n",
      "|        7340|\n",
      "|        7554|\n",
      "|        7754|\n",
      "|        7833|\n",
      "|        7880|\n",
      "|        7982|\n",
      "|        7993|\n",
      "|        8086|\n",
      "|        8389|\n",
      "|        8592|\n",
      "|        8638|\n",
      "|        9376|\n",
      "|        9427|\n",
      "|        9465|\n",
      "|        9852|\n",
      "|        9900|\n",
      "|       10206|\n",
      "|       10362|\n",
      "|       10623|\n",
      "|       10817|\n",
      "|       11033|\n",
      "|       11141|\n",
      "|       11317|\n",
      "|       11458|\n",
      "|       11748|\n",
      "|       11858|\n",
      "|       12027|\n",
      "|       12046|\n",
      "|       12799|\n",
      "|       12940|\n",
      "|       13285|\n",
      "|       13289|\n",
      "|       13623|\n",
      "|       13832|\n",
      "|       13840|\n",
      "|       14450|\n",
      "|       14570|\n",
      "|       14832|\n",
      "|         243|\n",
      "|         392|\n",
      "|         540|\n",
      "|         623|\n",
      "|         737|\n",
      "|         858|\n",
      "|         897|\n",
      "|        1025|\n",
      "|        1084|\n",
      "|        1127|\n",
      "|        1395|\n",
      "|        1460|\n",
      "|        1483|\n",
      "|        1507|\n",
      "|        1522|\n",
      "|        1721|\n",
      "|        1896|\n",
      "|        1990|\n",
      "|        2235|\n",
      "|        2387|\n",
      "|        2563|\n",
      "+------------+\n",
      "only showing top 100 rows\n",
      "\n",
      "+---------+\n",
      "|RepNumber|\n",
      "+---------+\n",
      "|       12|\n",
      "|        1|\n",
      "|       13|\n",
      "|       16|\n",
      "|        6|\n",
      "|        3|\n",
      "|        5|\n",
      "|       15|\n",
      "|        9|\n",
      "|        4|\n",
      "|        8|\n",
      "|        7|\n",
      "|       10|\n",
      "|       11|\n",
      "|       14|\n",
      "|        2|\n",
      "+---------+\n",
      "\n",
      "+----------+\n",
      "|Deductible|\n",
      "+----------+\n",
      "|       300|\n",
      "|       500|\n",
      "|       400|\n",
      "|       700|\n",
      "+----------+\n",
      "\n",
      "+------------+\n",
      "|DriverRating|\n",
      "+------------+\n",
      "|           1|\n",
      "|           3|\n",
      "|           4|\n",
      "|           2|\n",
      "+------------+\n",
      "\n",
      "+--------------------+\n",
      "|Days_Policy_Accident|\n",
      "+--------------------+\n",
      "|              1 to 7|\n",
      "|             8 to 15|\n",
      "|                none|\n",
      "|        more than 30|\n",
      "|            15 to 30|\n",
      "+--------------------+\n",
      "\n",
      "+-----------------+\n",
      "|Days_Policy_Claim|\n",
      "+-----------------+\n",
      "|          8 to 15|\n",
      "|             none|\n",
      "|     more than 30|\n",
      "|         15 to 30|\n",
      "+-----------------+\n",
      "\n",
      "+------------------+\n",
      "|PastNumberOfClaims|\n",
      "+------------------+\n",
      "|              none|\n",
      "|       more than 4|\n",
      "|            2 to 4|\n",
      "|                 1|\n",
      "+------------------+\n",
      "\n",
      "+------------+\n",
      "|AgeOfVehicle|\n",
      "+------------+\n",
      "|     5 years|\n",
      "|         new|\n",
      "|     2 years|\n",
      "|     7 years|\n",
      "|     4 years|\n",
      "| more than 7|\n",
      "|     6 years|\n",
      "|     3 years|\n",
      "+------------+\n",
      "\n",
      "+-----------------+\n",
      "|AgeOfPolicyHolder|\n",
      "+-----------------+\n",
      "|         41 to 50|\n",
      "|         18 to 20|\n",
      "|         26 to 30|\n",
      "|         31 to 35|\n",
      "|         21 to 25|\n",
      "|         51 to 65|\n",
      "|          over 65|\n",
      "|         16 to 17|\n",
      "|         36 to 40|\n",
      "+-----------------+\n",
      "\n",
      "+-----------------+\n",
      "|PoliceReportFiled|\n",
      "+-----------------+\n",
      "|               No|\n",
      "|              Yes|\n",
      "+-----------------+\n",
      "\n",
      "+--------------+\n",
      "|WitnessPresent|\n",
      "+--------------+\n",
      "|            No|\n",
      "|           Yes|\n",
      "+--------------+\n",
      "\n",
      "+---------+\n",
      "|AgentType|\n",
      "+---------+\n",
      "| Internal|\n",
      "| External|\n",
      "+---------+\n",
      "\n",
      "+-------------------+\n",
      "|NumberOfSuppliments|\n",
      "+-------------------+\n",
      "|               none|\n",
      "|             3 to 5|\n",
      "|        more than 5|\n",
      "|             1 to 2|\n",
      "+-------------------+\n",
      "\n",
      "+-------------------+\n",
      "|AddressChange_Claim|\n",
      "+-------------------+\n",
      "|             1 year|\n",
      "|     under 6 months|\n",
      "|       4 to 8 years|\n",
      "|       2 to 3 years|\n",
      "|          no change|\n",
      "+-------------------+\n",
      "\n",
      "+------------+\n",
      "|NumberOfCars|\n",
      "+------------+\n",
      "|      3 to 4|\n",
      "|      5 to 8|\n",
      "| more than 8|\n",
      "|   1 vehicle|\n",
      "|  2 vehicles|\n",
      "+------------+\n",
      "\n",
      "+----+\n",
      "|Year|\n",
      "+----+\n",
      "|1994|\n",
      "|1996|\n",
      "|1995|\n",
      "+----+\n",
      "\n",
      "+----------+\n",
      "|BasePolicy|\n",
      "+----------+\n",
      "| Liability|\n",
      "| Collision|\n",
      "|All Perils|\n",
      "+----------+\n",
      "\n"
     ]
    }
   ],
   "source": [
    "for column in df_vehicle: \n",
    "    df_vehicle.select(column).distinct().show(100)"
   ]
  },
  {
   "cell_type": "markdown",
   "id": "01477118",
   "metadata": {},
   "source": [
    "Checking the rows with zeroes."
   ]
  },
  {
   "cell_type": "code",
   "execution_count": 42,
   "id": "24d1ca28",
   "metadata": {},
   "outputs": [
    {
     "name": "stdout",
     "output_type": "stream",
     "text": [
      "+-----+-----------+---------+-----+------------+----------------+------------+------------------+----+-------------+---+-------------+------------------+---------------+---------------+------------+------------+---------+----------+------------+--------------------+-----------------+------------------+------------+-----------------+-----------------+--------------+---------+-------------------+-------------------+------------+----+----------+\n",
      "|Month|WeekOfMonth|DayOfWeek| Make|AccidentArea|DayOfWeekClaimed|MonthClaimed|WeekOfMonthClaimed| Sex|MaritalStatus|Age|        Fault|        PolicyType|VehicleCategory|   VehiclePrice|FraudFound_P|PolicyNumber|RepNumber|Deductible|DriverRating|Days_Policy_Accident|Days_Policy_Claim|PastNumberOfClaims|AgeOfVehicle|AgeOfPolicyHolder|PoliceReportFiled|WitnessPresent|AgentType|NumberOfSuppliments|AddressChange_Claim|NumberOfCars|Year|BasePolicy|\n",
      "+-----+-----------+---------+-----+------------+----------------+------------+------------------+----+-------------+---+-------------+------------------+---------------+---------------+------------+------------+---------+----------+------------+--------------------+-----------------+------------------+------------+-----------------+-----------------+--------------+---------+-------------------+-------------------+------------+----+----------+\n",
      "|  Jul|          2|   Monday|Honda|       Rural|               0|           0|                 1|Male|       Single|  0|Policy Holder|Sedan - All Perils|          Sedan|more than 69000|           0|        1517|       15|       400|           2|        more than 30|             none|              none|         new|         16 to 17|               No|            No| External|               none|          no change|   1 vehicle|1994|All Perils|\n",
      "+-----+-----------+---------+-----+------------+----------------+------------+------------------+----+-------------+---+-------------+------------------+---------------+---------------+------------+------------+---------+----------+------------+--------------------+-----------------+------------------+------------+-----------------+-----------------+--------------+---------+-------------------+-------------------+------------+----+----------+\n",
      "\n",
      "+-----+-----------+---------+-----+------------+----------------+------------+------------------+----+-------------+---+-------------+------------------+---------------+---------------+------------+------------+---------+----------+------------+--------------------+-----------------+------------------+------------+-----------------+-----------------+--------------+---------+-------------------+-------------------+------------+----+----------+\n",
      "|Month|WeekOfMonth|DayOfWeek| Make|AccidentArea|DayOfWeekClaimed|MonthClaimed|WeekOfMonthClaimed| Sex|MaritalStatus|Age|        Fault|        PolicyType|VehicleCategory|   VehiclePrice|FraudFound_P|PolicyNumber|RepNumber|Deductible|DriverRating|Days_Policy_Accident|Days_Policy_Claim|PastNumberOfClaims|AgeOfVehicle|AgeOfPolicyHolder|PoliceReportFiled|WitnessPresent|AgentType|NumberOfSuppliments|AddressChange_Claim|NumberOfCars|Year|BasePolicy|\n",
      "+-----+-----------+---------+-----+------------+----------------+------------+------------------+----+-------------+---+-------------+------------------+---------------+---------------+------------+------------+---------+----------+------------+--------------------+-----------------+------------------+------------+-----------------+-----------------+--------------+---------+-------------------+-------------------+------------+----+----------+\n",
      "|  Jul|          2|   Monday|Honda|       Rural|               0|           0|                 1|Male|       Single|  0|Policy Holder|Sedan - All Perils|          Sedan|more than 69000|           0|        1517|       15|       400|           2|        more than 30|             none|              none|         new|         16 to 17|               No|            No| External|               none|          no change|   1 vehicle|1994|All Perils|\n",
      "+-----+-----------+---------+-----+------------+----------------+------------+------------------+----+-------------+---+-------------+------------------+---------------+---------------+------------+------------+---------+----------+------------+--------------------+-----------------+------------------+------------+-----------------+-----------------+--------------+---------+-------------------+-------------------+------------+----+----------+\n",
      "\n"
     ]
    }
   ],
   "source": [
    "df_vehicle.where(df_vehicle.DayOfWeekClaimed == '0').show()\n",
    "df_vehicle.where(df_vehicle.MonthClaimed == '0').show()"
   ]
  },
  {
   "cell_type": "code",
   "execution_count": 43,
   "id": "eac18fe0",
   "metadata": {},
   "outputs": [
    {
     "name": "stdout",
     "output_type": "stream",
     "text": [
      "+-----+-----------+---------+-----+------------+----------------+------------+------------------+----+-------------+---+-------------+------------------+---------------+---------------+------------+------------+---------+----------+------------+--------------------+-----------------+------------------+------------+-----------------+-----------------+--------------+---------+-------------------+-------------------+------------+----+----------+\n",
      "|Month|WeekOfMonth|DayOfWeek| Make|AccidentArea|DayOfWeekClaimed|MonthClaimed|WeekOfMonthClaimed| Sex|MaritalStatus|Age|        Fault|        PolicyType|VehicleCategory|   VehiclePrice|FraudFound_P|PolicyNumber|RepNumber|Deductible|DriverRating|Days_Policy_Accident|Days_Policy_Claim|PastNumberOfClaims|AgeOfVehicle|AgeOfPolicyHolder|PoliceReportFiled|WitnessPresent|AgentType|NumberOfSuppliments|AddressChange_Claim|NumberOfCars|Year|BasePolicy|\n",
      "+-----+-----------+---------+-----+------------+----------------+------------+------------------+----+-------------+---+-------------+------------------+---------------+---------------+------------+------------+---------+----------+------------+--------------------+-----------------+------------------+------------+-----------------+-----------------+--------------+---------+-------------------+-------------------+------------+----+----------+\n",
      "|  Nov|          1|   Friday|Honda|       Urban|         Tuesday|         Mar|                 4|Male|       Single|  0|Policy Holder| Sport - Collision|          Sport|more than 69000|           0|           8|        1|       400|           4|        more than 30|     more than 30|                 1|         new|         16 to 17|               No|            No| External|               none|          no change|   1 vehicle|1994| Collision|\n",
      "|  Jan|          5|   Friday|Honda|       Rural|       Wednesday|         Feb|                 1|Male|       Single|  0|  Third Party| Sedan - Collision|          Sedan|more than 69000|           0|          14|       12|       400|           3|        more than 30|     more than 30|              none|         new|         16 to 17|               No|            No| External|               none|          no change|   1 vehicle|1994| Collision|\n",
      "|  Jul|          1| Saturday|Honda|       Urban|         Tuesday|         Sep|                 4|Male|       Single|  0|Policy Holder|Sedan - All Perils|          Sedan|more than 69000|           1|          29|        9|       400|           1|        more than 30|     more than 30|              none|         new|         16 to 17|               No|            No| External|               none|          no change|   1 vehicle|1994|All Perils|\n",
      "|  Mar|          1|   Sunday|Honda|       Urban|         Tuesday|         Mar|                 2|Male|       Single|  0|Policy Holder| Sedan - Collision|          Sedan|more than 69000|           0|          32|        6|       400|           1|        more than 30|     more than 30|                 1|         new|         16 to 17|               No|            No| External|               none|          no change|   1 vehicle|1994| Collision|\n",
      "|  May|          1|   Monday|Honda|       Rural|       Wednesday|         May|                 4|Male|       Single|  0|Policy Holder| Sedan - Liability|          Sport|more than 69000|           0|          59|       15|       400|           4|        more than 30|     more than 30|              none|         new|         16 to 17|               No|            No| External|               none|          no change|   1 vehicle|1994| Liability|\n",
      "|  Nov|          4|   Sunday|Honda|       Urban|          Friday|         Jan|                 3|Male|       Single|  0|  Third Party|Sedan - All Perils|          Sedan|more than 69000|           0|          63|        3|       400|           2|        more than 30|     more than 30|            2 to 4|         new|         16 to 17|               No|            No| External|               none|          no change|   1 vehicle|1994|All Perils|\n",
      "|  Dec|          1|Wednesday|Honda|       Urban|          Monday|         Jan|                 1|Male|       Single|  0|Policy Holder| Sedan - Liability|          Sport|more than 69000|           0|          85|        6|       400|           2|        more than 30|     more than 30|       more than 4|         new|         16 to 17|               No|            No| External|               none|       4 to 8 years|  2 vehicles|1994| Liability|\n",
      "|  Dec|          1|   Friday|Honda|       Rural|          Friday|         Dec|                 3|Male|       Single|  0|Policy Holder|Sedan - All Perils|          Sedan|more than 69000|           1|         120|        7|       400|           3|        more than 30|     more than 30|              none|         new|         16 to 17|               No|            No| External|               none|          no change|   1 vehicle|1994|All Perils|\n",
      "|  Feb|          1|   Friday|Honda|       Rural|          Friday|         Mar|                 3|Male|       Single|  0|Policy Holder|Sedan - All Perils|          Sedan|more than 69000|           0|         121|        8|       400|           3|        more than 30|     more than 30|              none|         new|         16 to 17|               No|            No| External|               none|          no change|   1 vehicle|1994|All Perils|\n",
      "|  Jan|          4|  Tuesday|Honda|       Urban|       Wednesday|         Jan|                 4|Male|       Single|  0|Policy Holder| Sedan - Liability|          Sport|more than 69000|           0|         162|        3|       400|           1|        more than 30|     more than 30|            2 to 4|         new|         16 to 17|               No|            No| External|               none|          no change|   1 vehicle|1994| Liability|\n",
      "|  Jan|          1|   Monday|Honda|       Urban|       Wednesday|         Jan|                 2|Male|       Single|  0|  Third Party| Sedan - Liability|          Sport|more than 69000|           0|         187|        8|       400|           4|        more than 30|     more than 30|            2 to 4|         new|         16 to 17|               No|            No| External|               none|          no change|   1 vehicle|1994| Liability|\n",
      "|  Dec|          4|   Monday|Honda|       Rural|          Friday|         Jan|                 2|Male|       Single|  0|Policy Holder| Sedan - Collision|          Sedan|more than 69000|           0|         203|       14|       400|           3|        more than 30|     more than 30|            2 to 4|         new|         16 to 17|               No|            No| External|               none|          no change|   1 vehicle|1994| Collision|\n",
      "|  Aug|          4|   Monday|Honda|       Urban|        Thursday|         Mar|                 3|Male|       Single|  0|Policy Holder| Sedan - Collision|          Sedan|more than 69000|           0|         244|        7|       400|           1|        more than 30|     more than 30|              none|         new|         16 to 17|               No|            No| External|               none|          no change|   1 vehicle|1994| Collision|\n",
      "|  Dec|          4|   Friday|Honda|       Urban|         Tuesday|         Jan|                 1|Male|       Single|  0|  Third Party| Sedan - Collision|          Sedan|more than 69000|           0|         246|        3|       400|           4|        more than 30|     more than 30|              none|         new|         16 to 17|               No|            No| External|               none|          no change|   1 vehicle|1994| Collision|\n",
      "|  Feb|          2|   Monday|Honda|       Urban|          Monday|         Feb|                 3|Male|       Single|  0|Policy Holder|Sedan - All Perils|          Sedan|more than 69000|           0|         269|        5|       400|           3|        more than 30|     more than 30|                 1|         new|         16 to 17|               No|            No| External|               none|          no change|   1 vehicle|1994|All Perils|\n",
      "|  Jan|          1| Thursday|Honda|       Urban|         Tuesday|         Jan|                 2|Male|       Single|  0|Policy Holder| Sedan - Liability|          Sport|more than 69000|           0|         278|       16|       400|           2|        more than 30|     more than 30|            2 to 4|         new|         16 to 17|               No|            No| External|               none|          no change|   1 vehicle|1994| Liability|\n",
      "|  Dec|          3|Wednesday|Honda|       Urban|          Monday|         Jan|                 1|Male|       Single|  0|Policy Holder| Sedan - Liability|          Sport|more than 69000|           0|         280|       12|       400|           4|        more than 30|     more than 30|                 1|         new|         16 to 17|               No|            No| External|               none|          no change|   1 vehicle|1994| Liability|\n",
      "|  Dec|          2|   Sunday|Honda|       Urban|       Wednesday|         Feb|                 1|Male|       Single|  0|Policy Holder|Sedan - All Perils|          Sedan|more than 69000|           0|         281|       11|       400|           4|        more than 30|     more than 30|              none|         new|         16 to 17|               No|            No| External|               none|          no change|   1 vehicle|1994|All Perils|\n",
      "|  Mar|          3| Saturday|Honda|       Urban|       Wednesday|         Jan|                 2|Male|       Single|  0|Policy Holder|Sedan - All Perils|          Sedan|more than 69000|           0|         283|       10|       400|           2|        more than 30|     more than 30|              none|         new|         16 to 17|               No|            No| External|               none|          no change|   1 vehicle|1994|All Perils|\n",
      "|  Jan|          1|  Tuesday|Honda|       Urban|          Friday|         Jan|                 2|Male|       Single|  0|Policy Holder| Sedan - Liability|          Sport|more than 69000|           0|         288|       11|       400|           4|        more than 30|     more than 30|            2 to 4|         new|         16 to 17|               No|            No| External|               none|          no change|      3 to 4|1994| Liability|\n",
      "+-----+-----------+---------+-----+------------+----------------+------------+------------------+----+-------------+---+-------------+------------------+---------------+---------------+------------+------------+---------+----------+------------+--------------------+-----------------+------------------+------------+-----------------+-----------------+--------------+---------+-------------------+-------------------+------------+----+----------+\n",
      "only showing top 20 rows\n",
      "\n"
     ]
    },
    {
     "data": {
      "text/plain": [
       "320"
      ]
     },
     "execution_count": 43,
     "metadata": {},
     "output_type": "execute_result"
    }
   ],
   "source": [
    "df_vehicle.where(df_vehicle.Age == 0).show()\n",
    "df_vehicle.where(df_vehicle.Age == 0).count()"
   ]
  },
  {
   "cell_type": "code",
   "execution_count": 44,
   "id": "c3047045",
   "metadata": {},
   "outputs": [
    {
     "name": "stdout",
     "output_type": "stream",
     "text": [
      "+-----+-----------+---------+-----+------------+----------------+------------+------------------+----+-------------+---+-------------+------------------+---------------+---------------+------------+------------+---------+----------+------------+--------------------+-----------------+------------------+------------+-----------------+-----------------+--------------+---------+-------------------+-------------------+------------+----+----------+\n",
      "|Month|WeekOfMonth|DayOfWeek| Make|AccidentArea|DayOfWeekClaimed|MonthClaimed|WeekOfMonthClaimed| Sex|MaritalStatus|Age|        Fault|        PolicyType|VehicleCategory|   VehiclePrice|FraudFound_P|PolicyNumber|RepNumber|Deductible|DriverRating|Days_Policy_Accident|Days_Policy_Claim|PastNumberOfClaims|AgeOfVehicle|AgeOfPolicyHolder|PoliceReportFiled|WitnessPresent|AgentType|NumberOfSuppliments|AddressChange_Claim|NumberOfCars|Year|BasePolicy|\n",
      "+-----+-----------+---------+-----+------------+----------------+------------+------------------+----+-------------+---+-------------+------------------+---------------+---------------+------------+------------+---------+----------+------------+--------------------+-----------------+------------------+------------+-----------------+-----------------+--------------+---------+-------------------+-------------------+------------+----+----------+\n",
      "|  Jul|          2|   Monday|Honda|       Rural|               0|           0|                 1|Male|       Single|  0|Policy Holder|Sedan - All Perils|          Sedan|more than 69000|           0|        1517|       15|       400|           2|        more than 30|             none|              none|         new|         16 to 17|               No|            No| External|               none|          no change|   1 vehicle|1994|All Perils|\n",
      "+-----+-----------+---------+-----+------------+----------------+------------+------------------+----+-------------+---+-------------+------------------+---------------+---------------+------------+------------+---------+----------+------------+--------------------+-----------------+------------------+------------+-----------------+-----------------+--------------+---------+-------------------+-------------------+------------+----+----------+\n",
      "\n"
     ]
    }
   ],
   "source": [
    "df_vehicle.where(df_vehicle.MonthClaimed == '0').show()"
   ]
  },
  {
   "cell_type": "markdown",
   "id": "011ea873",
   "metadata": {},
   "source": [
    "Monthclaimed and DayOfWeekClaimed has a value of zero in the same row. We can remove this row from the dataset.\n",
    "There are 320 rows with value of Age column as zero. The ages may be recorded as zeroes in these cases, either \n",
    "because the exact ages of the drivers were not known or the drivers were under age. Either way we can remove the\n",
    "rows containing age as zero."
   ]
  },
  {
   "cell_type": "code",
   "execution_count": 45,
   "id": "c9d5af05",
   "metadata": {},
   "outputs": [],
   "source": [
    "df = df_vehicle.filter(df_vehicle.MonthClaimed != 0)\n",
    "df = df_vehicle.filter(df_vehicle.Age != 0)"
   ]
  },
  {
   "cell_type": "markdown",
   "id": "1a86235b",
   "metadata": {},
   "source": [
    "Number of rows after removing rows with zero values"
   ]
  },
  {
   "cell_type": "code",
   "execution_count": 46,
   "id": "cba216bb",
   "metadata": {},
   "outputs": [
    {
     "data": {
      "text/plain": [
       "15100"
      ]
     },
     "execution_count": 46,
     "metadata": {},
     "output_type": "execute_result"
    }
   ],
   "source": [
    "df.count()"
   ]
  },
  {
   "cell_type": "markdown",
   "id": "dce374cd",
   "metadata": {},
   "source": [
    "We can drop the PolciyNumber column as it may not be useful in the model if they are all unique numbers."
   ]
  },
  {
   "cell_type": "code",
   "execution_count": 47,
   "id": "1106cddf",
   "metadata": {},
   "outputs": [
    {
     "name": "stdout",
     "output_type": "stream",
     "text": [
      "+----------------------------+\n",
      "|count(DISTINCT PolicyNumber)|\n",
      "+----------------------------+\n",
      "|                       15100|\n",
      "+----------------------------+\n",
      "\n"
     ]
    }
   ],
   "source": [
    "from pyspark.sql.functions import countDistinct\n",
    "df.select(countDistinct(\"PolicyNumber\")).show()"
   ]
  },
  {
   "cell_type": "markdown",
   "id": "220865a4",
   "metadata": {},
   "source": [
    "Dropping the Policy Number column as they are basically Policy IDs and there are no duplicates."
   ]
  },
  {
   "cell_type": "code",
   "execution_count": 48,
   "id": "df251ecb",
   "metadata": {},
   "outputs": [
    {
     "name": "stdout",
     "output_type": "stream",
     "text": [
      "+-----+-----------+---------+---------+------------+----------------+------------+------------------+------+-------------+---+-------------+--------------------+---------------+---------------+------------+---------+----------+------------+--------------------+-----------------+------------------+------------+-----------------+-----------------+--------------+---------+-------------------+-------------------+------------+----+----------+\n",
      "|Month|WeekOfMonth|DayOfWeek|     Make|AccidentArea|DayOfWeekClaimed|MonthClaimed|WeekOfMonthClaimed|   Sex|MaritalStatus|Age|        Fault|          PolicyType|VehicleCategory|   VehiclePrice|FraudFound_P|RepNumber|Deductible|DriverRating|Days_Policy_Accident|Days_Policy_Claim|PastNumberOfClaims|AgeOfVehicle|AgeOfPolicyHolder|PoliceReportFiled|WitnessPresent|AgentType|NumberOfSuppliments|AddressChange_Claim|NumberOfCars|Year|BasePolicy|\n",
      "+-----+-----------+---------+---------+------------+----------------+------------+------------------+------+-------------+---+-------------+--------------------+---------------+---------------+------------+---------+----------+------------+--------------------+-----------------+------------------+------------+-----------------+-----------------+--------------+---------+-------------------+-------------------+------------+----+----------+\n",
      "|  Dec|          5|Wednesday|    Honda|       Urban|         Tuesday|         Jan|                 1|Female|       Single| 21|Policy Holder|   Sport - Liability|          Sport|more than 69000|           0|       12|       300|           1|        more than 30|     more than 30|              none|     3 years|         26 to 30|               No|            No| External|               none|             1 year|      3 to 4|1994| Liability|\n",
      "|  Jan|          3|Wednesday|    Honda|       Urban|          Monday|         Jan|                 4|  Male|       Single| 34|Policy Holder|   Sport - Collision|          Sport|more than 69000|           0|       15|       400|           4|        more than 30|     more than 30|              none|     6 years|         31 to 35|              Yes|            No| External|               none|          no change|   1 vehicle|1994| Collision|\n",
      "|  Oct|          5|   Friday|    Honda|       Urban|        Thursday|         Nov|                 2|  Male|      Married| 47|Policy Holder|   Sport - Collision|          Sport|more than 69000|           0|        7|       400|           3|        more than 30|     more than 30|                 1|     7 years|         41 to 50|               No|            No| External|               none|          no change|   1 vehicle|1994| Collision|\n",
      "|  Jun|          2| Saturday|   Toyota|       Rural|          Friday|         Jul|                 1|  Male|      Married| 65|  Third Party|   Sedan - Liability|          Sport| 20000 to 29000|           0|        4|       400|           2|        more than 30|     more than 30|                 1| more than 7|         51 to 65|              Yes|            No| External|        more than 5|          no change|   1 vehicle|1994| Liability|\n",
      "|  Jan|          5|   Monday|    Honda|       Urban|         Tuesday|         Feb|                 2|Female|       Single| 27|  Third Party|   Sport - Collision|          Sport|more than 69000|           0|        3|       400|           1|        more than 30|     more than 30|              none|     5 years|         31 to 35|               No|            No| External|               none|          no change|   1 vehicle|1994| Collision|\n",
      "|  Oct|          4|   Friday|    Honda|       Urban|       Wednesday|         Nov|                 1|  Male|       Single| 20|  Third Party|   Sport - Collision|          Sport|more than 69000|           0|       12|       400|           3|        more than 30|     more than 30|              none|     5 years|         21 to 25|               No|            No| External|             3 to 5|          no change|   1 vehicle|1994| Collision|\n",
      "|  Feb|          1| Saturday|    Honda|       Urban|          Monday|         Feb|                 3|  Male|      Married| 36|  Third Party|   Sport - Collision|          Sport|more than 69000|           0|       14|       400|           1|        more than 30|     more than 30|                 1|     7 years|         36 to 40|               No|            No| External|             1 to 2|          no change|   1 vehicle|1994| Collision|\n",
      "|  Dec|          4| Saturday|    Honda|       Urban|       Wednesday|         Dec|                 5|  Male|       Single| 30|Policy Holder|   Sport - Collision|          Sport|more than 69000|           0|        7|       400|           4|        more than 30|     more than 30|              none|     6 years|         31 to 35|               No|           Yes| External|             3 to 5|          no change|   1 vehicle|1994| Collision|\n",
      "|  Apr|          3|  Tuesday|     Ford|       Urban|       Wednesday|         Apr|                 3|  Male|      Married| 42|Policy Holder|Utility - All Perils|        Utility|more than 69000|           0|        7|       400|           1|        more than 30|     more than 30|            2 to 4| more than 7|         36 to 40|               No|            No| External|             3 to 5|          no change|   1 vehicle|1994|All Perils|\n",
      "|  Mar|          2|   Sunday|    Mazda|       Urban|       Wednesday|         Mar|                 3|  Male|       Single| 71|Policy Holder|  Sedan - All Perils|          Sedan|more than 69000|           0|        7|       400|           3|        more than 30|     more than 30|              none| more than 7|          over 65|               No|            No| External|               none|          no change|   1 vehicle|1994|All Perils|\n",
      "|  Mar|          5|   Monday|    Honda|       Urban|          Monday|         Mar|                 5|  Male|      Married| 52|Policy Holder|   Sedan - Liability|          Sport| 20000 to 29000|           0|       13|       400|           1|        more than 30|     more than 30|            2 to 4| more than 7|         41 to 50|               No|            No| External|               none|          no change|   1 vehicle|1994| Liability|\n",
      "|  Jan|          3|   Friday|     Ford|       Urban|          Friday|         Jan|                 3|  Male|      Married| 28|Policy Holder|   Sedan - Liability|          Sport|more than 69000|           0|       11|       400|           1|        more than 30|     more than 30|                 1|     7 years|         31 to 35|               No|            No| External|               none|          no change|   1 vehicle|1994| Liability|\n",
      "|  Jan|          5|   Monday|     Ford|       Urban|        Thursday|         Feb|                 1|  Male|      Married| 61|Policy Holder|   Sedan - Liability|          Sport|more than 69000|           0|        3|       400|           1|        more than 30|     more than 30|              none| more than 7|         51 to 65|               No|            No| External|               none|          no change|   1 vehicle|1994| Liability|\n",
      "|  Aug|          4|  Tuesday|     Ford|       Urban|          Monday|         Aug|                 5|  Male|       Single| 38|Policy Holder|   Sedan - Liability|          Sport|more than 69000|           0|       16|       400|           1|        more than 30|     more than 30|              none|     6 years|         36 to 40|               No|            No| External|               none|          no change|   1 vehicle|1994| Liability|\n",
      "|  Apr|          4| Thursday|     Ford|       Urban|       Wednesday|         May|                 1|  Male|      Married| 41|Policy Holder|  Sedan - All Perils|          Sedan|more than 69000|           0|       15|       400|           4|        more than 30|     more than 30|              none|     7 years|         36 to 40|               No|            No| External|               none|          no change|   1 vehicle|1994|All Perils|\n",
      "|  Jul|          5|   Sunday|Chevrolet|       Urban|       Wednesday|         Aug|                 1|Female|      Married| 28|  Third Party|   Sedan - Collision|          Sedan| 20000 to 29000|           0|        6|       400|           1|        more than 30|     more than 30|              none|     7 years|         31 to 35|               No|            No| External|             1 to 2|          no change|   1 vehicle|1994| Collision|\n",
      "|  May|          4| Thursday|  Pontiac|       Urban|          Monday|         May|                 5|  Male|       Single| 32|Policy Holder|   Sedan - Liability|          Sport| 20000 to 29000|           0|        6|       400|           1|        more than 30|     more than 30|                 1|     7 years|         31 to 35|               No|            No| External|               none|          no change|   1 vehicle|1994| Liability|\n",
      "|  Apr|          4|   Monday|    Honda|       Urban|         Tuesday|         May|                 1|  Male|      Married| 30|  Third Party|   Sedan - Liability|          Sport|more than 69000|           0|        2|       400|           2|        more than 30|     more than 30|            2 to 4|     6 years|         31 to 35|               No|            No| External|        more than 5|          no change|   1 vehicle|1994| Liability|\n",
      "|  Apr|          2|   Friday|    Mazda|       Urban|         Tuesday|         May|                 1|  Male|      Married| 40|Policy Holder|   Sedan - Liability|          Sport| 20000 to 29000|           0|        3|       400|           1|        more than 30|     more than 30|                 1| more than 7|         36 to 40|               No|            No| External|        more than 5|          no change|   1 vehicle|1994| Liability|\n",
      "|  Jan|          2| Saturday|Chevrolet|       Urban|          Monday|         Jan|                 2|  Male|      Married| 47|Policy Holder|   Sedan - Collision|          Sedan| 20000 to 29000|           0|       13|       400|           2|        more than 30|     more than 30|                 1| more than 7|         41 to 50|               No|            No| External|               none|       4 to 8 years|  2 vehicles|1994| Collision|\n",
      "+-----+-----------+---------+---------+------------+----------------+------------+------------------+------+-------------+---+-------------+--------------------+---------------+---------------+------------+---------+----------+------------+--------------------+-----------------+------------------+------------+-----------------+-----------------+--------------+---------+-------------------+-------------------+------------+----+----------+\n",
      "only showing top 20 rows\n",
      "\n"
     ]
    }
   ],
   "source": [
    "df = df.drop(\"PolicyNumber\")\n",
    "df.show()"
   ]
  },
  {
   "cell_type": "code",
   "execution_count": 49,
   "id": "32661883",
   "metadata": {},
   "outputs": [],
   "source": [
    "from pyspark.ml.feature import StringIndexer, OneHotEncoder\n",
    "\n",
    "SI_Month = StringIndexer(inputCol='Month',outputCol='Month_Index')\n",
    "SI_DayOfWeek = StringIndexer(inputCol='DayOfWeek',outputCol='DayOfWeek_Index')\n",
    "SI_Make = StringIndexer(inputCol='Make',outputCol='Make_Index')\n",
    "SI_AccidentArea = StringIndexer(inputCol='AccidentArea',outputCol='AccidentArea_Index')\n",
    "SI_DayOfWeekClaimed = StringIndexer(inputCol='DayOfWeekClaimed',outputCol='DayOfWeekClaimed_Index')\n",
    "SI_MonthClaimed = StringIndexer(inputCol='MonthClaimed',outputCol='MonthClaimed_Index')\n",
    "SI_Sex = StringIndexer(inputCol='Sex',outputCol='Sex_Index')\n",
    "SI_MaritalStatus = StringIndexer(inputCol='MaritalStatus',outputCol='MaritalStatus_Index')\n",
    "SI_Fault = StringIndexer(inputCol='Fault',outputCol='Fault_Index')\n",
    "SI_PolicyType = StringIndexer(inputCol='PolicyType',outputCol='PolicyType_Index')\n",
    "SI_VehicleCategory = StringIndexer(inputCol='VehicleCategory',outputCol='VehicleCategory_Index')\n",
    "SI_VehiclePrice = StringIndexer(inputCol='VehiclePrice',outputCol='VehiclePrice_Index')\n",
    "SI_Days_Policy_Accident = StringIndexer(inputCol='Days_Policy_Accident',outputCol='Days_Policy_Accident_Index')\n",
    "SI_Days_Policy_Claim = StringIndexer(inputCol='Days_Policy_Claim',outputCol='Days_Policy_Claim_Index')\n",
    "SI_PastNumberOfClaims = StringIndexer(inputCol='PastNumberOfClaims',outputCol='PastNumberOfClaims_Index')\n",
    "SI_AgeOfVehicle = StringIndexer(inputCol='AgeOfVehicle',outputCol='AgeOfVehicle_Index')\n",
    "SI_AgeOfPolicyHolder = StringIndexer(inputCol='AgeOfPolicyHolder',outputCol='AgeOfPolicyHolder_Index')\n",
    "SI_PoliceReportFiled = StringIndexer(inputCol='PoliceReportFiled',outputCol='PoliceReportFiled_Index')\n",
    "SI_WitnessPresent = StringIndexer(inputCol='WitnessPresent',outputCol='WitnessPresent_Index')\n",
    "SI_AgentType = StringIndexer(inputCol='AgentType',outputCol='AgentType_Index')\n",
    "SI_NumberOfSuppliments = StringIndexer(inputCol='NumberOfSuppliments',outputCol='NumberOfSuppliments_Index')\n",
    "SI_AddressChange_Claim = StringIndexer(inputCol='AddressChange_Claim',outputCol='AddressChange_Claim_Index')\n",
    "SI_NumberOfCars = StringIndexer(inputCol='NumberOfCars',outputCol='NumberOfCars_Index')\n",
    "SI_BasePolicy = StringIndexer(inputCol='BasePolicy',outputCol='BasePolicy_Index')\n",
    "\n",
    "\n",
    "df = SI_Month.fit(df).transform(df)\n",
    "df = SI_DayOfWeek.fit(df).transform(df)\n",
    "df = SI_Make.fit(df).transform(df)\n",
    "df = SI_AccidentArea.fit(df).transform(df)\n",
    "df = SI_DayOfWeekClaimed.fit(df).transform(df)\n",
    "df = SI_MonthClaimed.fit(df).transform(df)\n",
    "df = SI_Sex.fit(df).transform(df)\n",
    "df = SI_MaritalStatus.fit(df).transform(df)\n",
    "df = SI_Fault.fit(df).transform(df)\n",
    "df = SI_PolicyType.fit(df).transform(df)\n",
    "df = SI_VehicleCategory.fit(df).transform(df)\n",
    "df = SI_VehiclePrice.fit(df).transform(df)\n",
    "df = SI_Days_Policy_Accident.fit(df).transform(df)\n",
    "df = SI_Days_Policy_Claim.fit(df).transform(df)\n",
    "df = SI_PastNumberOfClaims.fit(df).transform(df)\n",
    "df = SI_AgeOfVehicle.fit(df).transform(df)\n",
    "df = SI_AgeOfPolicyHolder.fit(df).transform(df)\n",
    "df = SI_PoliceReportFiled.fit(df).transform(df)\n",
    "df = SI_WitnessPresent.fit(df).transform(df)\n",
    "df = SI_AgentType.fit(df).transform(df)\n",
    "df = SI_NumberOfSuppliments.fit(df).transform(df)\n",
    "df = SI_AddressChange_Claim.fit(df).transform(df)\n",
    "df = SI_NumberOfCars.fit(df).transform(df)\n",
    "df = SI_BasePolicy.fit(df).transform(df)\n"
   ]
  },
  {
   "cell_type": "code",
   "execution_count": 50,
   "id": "8126d66c",
   "metadata": {},
   "outputs": [
    {
     "name": "stdout",
     "output_type": "stream",
     "text": [
      "+---------+-------------+\n",
      "|DayOfWeek|DayOfWeek_OHE|\n",
      "+---------+-------------+\n",
      "|Wednesday|(6,[4],[1.0])|\n",
      "|Wednesday|(6,[4],[1.0])|\n",
      "|   Friday|(6,[1],[1.0])|\n",
      "| Saturday|(6,[5],[1.0])|\n",
      "|   Monday|(6,[0],[1.0])|\n",
      "|   Friday|(6,[1],[1.0])|\n",
      "| Saturday|(6,[5],[1.0])|\n",
      "| Saturday|(6,[5],[1.0])|\n",
      "|  Tuesday|(6,[2],[1.0])|\n",
      "|   Sunday|    (6,[],[])|\n",
      "|   Monday|(6,[0],[1.0])|\n",
      "|   Friday|(6,[1],[1.0])|\n",
      "|   Monday|(6,[0],[1.0])|\n",
      "|  Tuesday|(6,[2],[1.0])|\n",
      "| Thursday|(6,[3],[1.0])|\n",
      "|   Sunday|    (6,[],[])|\n",
      "| Thursday|(6,[3],[1.0])|\n",
      "|   Monday|(6,[0],[1.0])|\n",
      "|   Friday|(6,[1],[1.0])|\n",
      "| Saturday|(6,[5],[1.0])|\n",
      "+---------+-------------+\n",
      "only showing top 20 rows\n",
      "\n"
     ]
    }
   ],
   "source": [
    "OHE = OneHotEncoder(inputCols=['Month_Index', 'DayOfWeek_Index','Make_Index','AccidentArea_Index','DayOfWeekClaimed_Index','MonthClaimed_Index','Sex_Index','MaritalStatus_Index','Fault_Index','PolicyType_Index','VehicleCategory_Index','VehiclePrice_Index','Days_Policy_Accident_Index','Days_Policy_Claim_Index','PastNumberOfClaims_Index','AgeOfVehicle_Index','AgeOfPolicyHolder_Index', 'PoliceReportFiled_Index','WitnessPresent_Index','AgentType_Index','NumberOfSuppliments_Index','AddressChange_Claim_Index','NumberOfCars_Index','BasePolicy_Index' ],outputCols=['Month_OHE', 'DayOfWeek_OHE','Make_OHE','AccidentArea_OHE','DayOfWeekClaimed_OHE','MonthClaimed_OHE','Sex_OHE','MaritalStatus_OHE','Fault_OHE','PolicyType_OHE','VehicleCategory_OHE','VehiclePrice_OHE','Days_Policy_Accident_OHE','Days_Policy_Calim','PastNumberOfClaims_OHE','AgeOfVehicle_OHE','AgeOfPolicyHolder_OHE', 'PolicyReportFiled_OHE','WitnessPresent_OHE','AgentType_OHE','NumberOfSuppliments_OHE','AddressChange_Claim_OHE','NumberOfCars_OHE','BasePolicy_OHE' ])\n",
    "df = OHE.fit(df).transform(df)\n",
    "df.select('DayOfWeek','DayOfWeek_OHE').show()"
   ]
  },
  {
   "cell_type": "code",
   "execution_count": 51,
   "id": "7c2ad55b",
   "metadata": {},
   "outputs": [
    {
     "name": "stdout",
     "output_type": "stream",
     "text": [
      "+-----+-----------+---------+---------+------------+----------------+------------+------------------+------+-------------+---+-------------+--------------------+---------------+---------------+------------+---------+----------+------------+--------------------+-----------------+------------------+------------+-----------------+-----------------+--------------+---------+-------------------+-------------------+------------+----+----------+-----------+---------------+----------+------------------+----------------------+------------------+---------+-------------------+-----------+----------------+---------------------+------------------+--------------------------+-----------------------+------------------------+------------------+-----------------------+-----------------------+--------------------+---------------+-------------------------+-------------------------+------------------+----------------+--------------+-------------+--------------+----------------+--------------------+----------------+-------------+-----------------+-------------+--------------+-------------------+----------------+------------------------+-----------------+----------------------+----------------+---------------------+---------------------+------------------+-------------+-----------------------+-----------------------+----------------+--------------+\n",
      "|Month|WeekOfMonth|DayOfWeek|     Make|AccidentArea|DayOfWeekClaimed|MonthClaimed|WeekOfMonthClaimed|   Sex|MaritalStatus|Age|        Fault|          PolicyType|VehicleCategory|   VehiclePrice|FraudFound_P|RepNumber|Deductible|DriverRating|Days_Policy_Accident|Days_Policy_Claim|PastNumberOfClaims|AgeOfVehicle|AgeOfPolicyHolder|PoliceReportFiled|WitnessPresent|AgentType|NumberOfSuppliments|AddressChange_Claim|NumberOfCars|Year|BasePolicy|Month_Index|DayOfWeek_Index|Make_Index|AccidentArea_Index|DayOfWeekClaimed_Index|MonthClaimed_Index|Sex_Index|MaritalStatus_Index|Fault_Index|PolicyType_Index|VehicleCategory_Index|VehiclePrice_Index|Days_Policy_Accident_Index|Days_Policy_Claim_Index|PastNumberOfClaims_Index|AgeOfVehicle_Index|AgeOfPolicyHolder_Index|PoliceReportFiled_Index|WitnessPresent_Index|AgentType_Index|NumberOfSuppliments_Index|AddressChange_Claim_Index|NumberOfCars_Index|BasePolicy_Index|     Month_OHE|DayOfWeek_OHE|      Make_OHE|AccidentArea_OHE|DayOfWeekClaimed_OHE|MonthClaimed_OHE|      Sex_OHE|MaritalStatus_OHE|    Fault_OHE|PolicyType_OHE|VehicleCategory_OHE|VehiclePrice_OHE|Days_Policy_Accident_OHE|Days_Policy_Calim|PastNumberOfClaims_OHE|AgeOfVehicle_OHE|AgeOfPolicyHolder_OHE|PolicyReportFiled_OHE|WitnessPresent_OHE|AgentType_OHE|NumberOfSuppliments_OHE|AddressChange_Claim_OHE|NumberOfCars_OHE|BasePolicy_OHE|\n",
      "+-----+-----------+---------+---------+------------+----------------+------------+------------------+------+-------------+---+-------------+--------------------+---------------+---------------+------------+---------+----------+------------+--------------------+-----------------+------------------+------------+-----------------+-----------------+--------------+---------+-------------------+-------------------+------------+----+----------+-----------+---------------+----------+------------------+----------------------+------------------+---------+-------------------+-----------+----------------+---------------------+------------------+--------------------------+-----------------------+------------------------+------------------+-----------------------+-----------------------+--------------------+---------------+-------------------------+-------------------------+------------------+----------------+--------------+-------------+--------------+----------------+--------------------+----------------+-------------+-----------------+-------------+--------------+-------------------+----------------+------------------------+-----------------+----------------------+----------------+---------------------+---------------------+------------------+-------------+-----------------------+-----------------------+----------------+--------------+\n",
      "|  Dec|          5|Wednesday|    Honda|       Urban|         Tuesday|         Jan|                 1|Female|       Single| 21|Policy Holder|   Sport - Liability|          Sport|more than 69000|           0|       12|       300|           1|        more than 30|     more than 30|              none|     3 years|         26 to 30|               No|            No| External|               none|             1 year|      3 to 4|1994| Liability|        5.0|            4.0|       2.0|               0.0|                   1.0|               1.0|      1.0|                1.0|        0.0|             8.0|                  1.0|               2.0|                       0.0|                    0.0|                     1.0|               5.0|                    4.0|                    0.0|                 0.0|            0.0|                      0.0|                      3.0|               2.0|             1.0|(11,[5],[1.0])|(6,[4],[1.0])|(18,[2],[1.0])|   (1,[0],[1.0])|       (6,[1],[1.0])|  (11,[1],[1.0])|    (1,[],[])|    (3,[1],[1.0])|(1,[0],[1.0])|     (8,[],[])|      (2,[1],[1.0])|   (5,[2],[1.0])|           (4,[0],[1.0])|    (2,[0],[1.0])|         (3,[1],[1.0])|   (7,[5],[1.0])|        (7,[4],[1.0])|        (1,[0],[1.0])|     (1,[0],[1.0])|(1,[0],[1.0])|          (3,[0],[1.0])|          (4,[3],[1.0])|   (4,[2],[1.0])| (2,[1],[1.0])|\n",
      "|  Jan|          3|Wednesday|    Honda|       Urban|          Monday|         Jan|                 4|  Male|       Single| 34|Policy Holder|   Sport - Collision|          Sport|more than 69000|           0|       15|       400|           4|        more than 30|     more than 30|              none|     6 years|         31 to 35|              Yes|            No| External|               none|          no change|   1 vehicle|1994| Collision|        0.0|            4.0|       2.0|               0.0|                   0.0|               1.0|      0.0|                1.0|        0.0|             3.0|                  1.0|               2.0|                       0.0|                    0.0|                     1.0|               2.0|                    0.0|                    1.0|                 0.0|            0.0|                      0.0|                      0.0|               0.0|             0.0|(11,[0],[1.0])|(6,[4],[1.0])|(18,[2],[1.0])|   (1,[0],[1.0])|       (6,[0],[1.0])|  (11,[1],[1.0])|(1,[0],[1.0])|    (3,[1],[1.0])|(1,[0],[1.0])| (8,[3],[1.0])|      (2,[1],[1.0])|   (5,[2],[1.0])|           (4,[0],[1.0])|    (2,[0],[1.0])|         (3,[1],[1.0])|   (7,[2],[1.0])|        (7,[0],[1.0])|            (1,[],[])|     (1,[0],[1.0])|(1,[0],[1.0])|          (3,[0],[1.0])|          (4,[0],[1.0])|   (4,[0],[1.0])| (2,[0],[1.0])|\n",
      "|  Oct|          5|   Friday|    Honda|       Urban|        Thursday|         Nov|                 2|  Male|      Married| 47|Policy Holder|   Sport - Collision|          Sport|more than 69000|           0|        7|       400|           3|        more than 30|     more than 30|                 1|     7 years|         41 to 50|               No|            No| External|               none|          no change|   1 vehicle|1994| Collision|        3.0|            1.0|       2.0|               0.0|                   3.0|               4.0|      0.0|                0.0|        0.0|             3.0|                  1.0|               2.0|                       0.0|                    0.0|                     2.0|               0.0|                    2.0|                    0.0|                 0.0|            0.0|                      0.0|                      0.0|               0.0|             0.0|(11,[3],[1.0])|(6,[1],[1.0])|(18,[2],[1.0])|   (1,[0],[1.0])|       (6,[3],[1.0])|  (11,[4],[1.0])|(1,[0],[1.0])|    (3,[0],[1.0])|(1,[0],[1.0])| (8,[3],[1.0])|      (2,[1],[1.0])|   (5,[2],[1.0])|           (4,[0],[1.0])|    (2,[0],[1.0])|         (3,[2],[1.0])|   (7,[0],[1.0])|        (7,[2],[1.0])|        (1,[0],[1.0])|     (1,[0],[1.0])|(1,[0],[1.0])|          (3,[0],[1.0])|          (4,[0],[1.0])|   (4,[0],[1.0])| (2,[0],[1.0])|\n",
      "|  Jun|          2| Saturday|   Toyota|       Rural|          Friday|         Jul|                 1|  Male|      Married| 65|  Third Party|   Sedan - Liability|          Sport| 20000 to 29000|           0|        4|       400|           2|        more than 30|     more than 30|                 1| more than 7|         51 to 65|              Yes|            No| External|        more than 5|          no change|   1 vehicle|1994| Liability|        4.0|            5.0|       1.0|               1.0|                   4.0|               9.0|      0.0|                0.0|        1.0|             1.0|                  1.0|               0.0|                       0.0|                    0.0|                     2.0|               1.0|                    3.0|                    1.0|                 0.0|            0.0|                      1.0|                      0.0|               0.0|             1.0|(11,[4],[1.0])|(6,[5],[1.0])|(18,[1],[1.0])|       (1,[],[])|       (6,[4],[1.0])|  (11,[9],[1.0])|(1,[0],[1.0])|    (3,[0],[1.0])|    (1,[],[])| (8,[1],[1.0])|      (2,[1],[1.0])|   (5,[0],[1.0])|           (4,[0],[1.0])|    (2,[0],[1.0])|         (3,[2],[1.0])|   (7,[1],[1.0])|        (7,[3],[1.0])|            (1,[],[])|     (1,[0],[1.0])|(1,[0],[1.0])|          (3,[1],[1.0])|          (4,[0],[1.0])|   (4,[0],[1.0])| (2,[1],[1.0])|\n",
      "|  Jan|          5|   Monday|    Honda|       Urban|         Tuesday|         Feb|                 2|Female|       Single| 27|  Third Party|   Sport - Collision|          Sport|more than 69000|           0|        3|       400|           1|        more than 30|     more than 30|              none|     5 years|         31 to 35|               No|            No| External|               none|          no change|   1 vehicle|1994| Collision|        0.0|            0.0|       2.0|               0.0|                   1.0|               6.0|      1.0|                1.0|        1.0|             3.0|                  1.0|               2.0|                       0.0|                    0.0|                     1.0|               3.0|                    0.0|                    0.0|                 0.0|            0.0|                      0.0|                      0.0|               0.0|             0.0|(11,[0],[1.0])|(6,[0],[1.0])|(18,[2],[1.0])|   (1,[0],[1.0])|       (6,[1],[1.0])|  (11,[6],[1.0])|    (1,[],[])|    (3,[1],[1.0])|    (1,[],[])| (8,[3],[1.0])|      (2,[1],[1.0])|   (5,[2],[1.0])|           (4,[0],[1.0])|    (2,[0],[1.0])|         (3,[1],[1.0])|   (7,[3],[1.0])|        (7,[0],[1.0])|        (1,[0],[1.0])|     (1,[0],[1.0])|(1,[0],[1.0])|          (3,[0],[1.0])|          (4,[0],[1.0])|   (4,[0],[1.0])| (2,[0],[1.0])|\n",
      "|  Oct|          4|   Friday|    Honda|       Urban|       Wednesday|         Nov|                 1|  Male|       Single| 20|  Third Party|   Sport - Collision|          Sport|more than 69000|           0|       12|       400|           3|        more than 30|     more than 30|              none|     5 years|         21 to 25|               No|            No| External|             3 to 5|          no change|   1 vehicle|1994| Collision|        3.0|            1.0|       2.0|               0.0|                   2.0|               4.0|      0.0|                1.0|        1.0|             3.0|                  1.0|               2.0|                       0.0|                    0.0|                     1.0|               3.0|                    6.0|                    0.0|                 0.0|            0.0|                      3.0|                      0.0|               0.0|             0.0|(11,[3],[1.0])|(6,[1],[1.0])|(18,[2],[1.0])|   (1,[0],[1.0])|       (6,[2],[1.0])|  (11,[4],[1.0])|(1,[0],[1.0])|    (3,[1],[1.0])|    (1,[],[])| (8,[3],[1.0])|      (2,[1],[1.0])|   (5,[2],[1.0])|           (4,[0],[1.0])|    (2,[0],[1.0])|         (3,[1],[1.0])|   (7,[3],[1.0])|        (7,[6],[1.0])|        (1,[0],[1.0])|     (1,[0],[1.0])|(1,[0],[1.0])|              (3,[],[])|          (4,[0],[1.0])|   (4,[0],[1.0])| (2,[0],[1.0])|\n",
      "|  Feb|          1| Saturday|    Honda|       Urban|          Monday|         Feb|                 3|  Male|      Married| 36|  Third Party|   Sport - Collision|          Sport|more than 69000|           0|       14|       400|           1|        more than 30|     more than 30|                 1|     7 years|         36 to 40|               No|            No| External|             1 to 2|          no change|   1 vehicle|1994| Collision|        9.0|            5.0|       2.0|               0.0|                   0.0|               6.0|      0.0|                0.0|        1.0|             3.0|                  1.0|               2.0|                       0.0|                    0.0|                     2.0|               0.0|                    1.0|                    0.0|                 0.0|            0.0|                      2.0|                      0.0|               0.0|             0.0|(11,[9],[1.0])|(6,[5],[1.0])|(18,[2],[1.0])|   (1,[0],[1.0])|       (6,[0],[1.0])|  (11,[6],[1.0])|(1,[0],[1.0])|    (3,[0],[1.0])|    (1,[],[])| (8,[3],[1.0])|      (2,[1],[1.0])|   (5,[2],[1.0])|           (4,[0],[1.0])|    (2,[0],[1.0])|         (3,[2],[1.0])|   (7,[0],[1.0])|        (7,[1],[1.0])|        (1,[0],[1.0])|     (1,[0],[1.0])|(1,[0],[1.0])|          (3,[2],[1.0])|          (4,[0],[1.0])|   (4,[0],[1.0])| (2,[0],[1.0])|\n",
      "|  Dec|          4| Saturday|    Honda|       Urban|       Wednesday|         Dec|                 5|  Male|       Single| 30|Policy Holder|   Sport - Collision|          Sport|more than 69000|           0|        7|       400|           4|        more than 30|     more than 30|              none|     6 years|         31 to 35|               No|           Yes| External|             3 to 5|          no change|   1 vehicle|1994| Collision|        5.0|            5.0|       2.0|               0.0|                   2.0|              10.0|      0.0|                1.0|        0.0|             3.0|                  1.0|               2.0|                       0.0|                    0.0|                     1.0|               2.0|                    0.0|                    0.0|                 1.0|            0.0|                      3.0|                      0.0|               0.0|             0.0|(11,[5],[1.0])|(6,[5],[1.0])|(18,[2],[1.0])|   (1,[0],[1.0])|       (6,[2],[1.0])| (11,[10],[1.0])|(1,[0],[1.0])|    (3,[1],[1.0])|(1,[0],[1.0])| (8,[3],[1.0])|      (2,[1],[1.0])|   (5,[2],[1.0])|           (4,[0],[1.0])|    (2,[0],[1.0])|         (3,[1],[1.0])|   (7,[2],[1.0])|        (7,[0],[1.0])|        (1,[0],[1.0])|         (1,[],[])|(1,[0],[1.0])|              (3,[],[])|          (4,[0],[1.0])|   (4,[0],[1.0])| (2,[0],[1.0])|\n",
      "|  Apr|          3|  Tuesday|     Ford|       Urban|       Wednesday|         Apr|                 3|  Male|      Married| 42|Policy Holder|Utility - All Perils|        Utility|more than 69000|           0|        7|       400|           1|        more than 30|     more than 30|            2 to 4| more than 7|         36 to 40|               No|            No| External|             3 to 5|          no change|   1 vehicle|1994|All Perils|        7.0|            2.0|       6.0|               0.0|                   2.0|               8.0|      0.0|                0.0|        0.0|             4.0|                  2.0|               2.0|                       0.0|                    0.0|                     0.0|               1.0|                    1.0|                    0.0|                 0.0|            0.0|                      3.0|                      0.0|               0.0|             2.0|(11,[7],[1.0])|(6,[2],[1.0])|(18,[6],[1.0])|   (1,[0],[1.0])|       (6,[2],[1.0])|  (11,[8],[1.0])|(1,[0],[1.0])|    (3,[0],[1.0])|(1,[0],[1.0])| (8,[4],[1.0])|          (2,[],[])|   (5,[2],[1.0])|           (4,[0],[1.0])|    (2,[0],[1.0])|         (3,[0],[1.0])|   (7,[1],[1.0])|        (7,[1],[1.0])|        (1,[0],[1.0])|     (1,[0],[1.0])|(1,[0],[1.0])|              (3,[],[])|          (4,[0],[1.0])|   (4,[0],[1.0])|     (2,[],[])|\n",
      "|  Mar|          2|   Sunday|    Mazda|       Urban|       Wednesday|         Mar|                 3|  Male|       Single| 71|Policy Holder|  Sedan - All Perils|          Sedan|more than 69000|           0|        7|       400|           3|        more than 30|     more than 30|              none| more than 7|          over 65|               No|            No| External|               none|          no change|   1 vehicle|1994|All Perils|        2.0|            6.0|       3.0|               0.0|                   2.0|               3.0|      0.0|                1.0|        0.0|             2.0|                  0.0|               2.0|                       0.0|                    0.0|                     1.0|               1.0|                    5.0|                    0.0|                 0.0|            0.0|                      0.0|                      0.0|               0.0|             2.0|(11,[2],[1.0])|    (6,[],[])|(18,[3],[1.0])|   (1,[0],[1.0])|       (6,[2],[1.0])|  (11,[3],[1.0])|(1,[0],[1.0])|    (3,[1],[1.0])|(1,[0],[1.0])| (8,[2],[1.0])|      (2,[0],[1.0])|   (5,[2],[1.0])|           (4,[0],[1.0])|    (2,[0],[1.0])|         (3,[1],[1.0])|   (7,[1],[1.0])|        (7,[5],[1.0])|        (1,[0],[1.0])|     (1,[0],[1.0])|(1,[0],[1.0])|          (3,[0],[1.0])|          (4,[0],[1.0])|   (4,[0],[1.0])|     (2,[],[])|\n",
      "|  Mar|          5|   Monday|    Honda|       Urban|          Monday|         Mar|                 5|  Male|      Married| 52|Policy Holder|   Sedan - Liability|          Sport| 20000 to 29000|           0|       13|       400|           1|        more than 30|     more than 30|            2 to 4| more than 7|         41 to 50|               No|            No| External|               none|          no change|   1 vehicle|1994| Liability|        2.0|            0.0|       2.0|               0.0|                   0.0|               3.0|      0.0|                0.0|        0.0|             1.0|                  1.0|               0.0|                       0.0|                    0.0|                     0.0|               1.0|                    2.0|                    0.0|                 0.0|            0.0|                      0.0|                      0.0|               0.0|             1.0|(11,[2],[1.0])|(6,[0],[1.0])|(18,[2],[1.0])|   (1,[0],[1.0])|       (6,[0],[1.0])|  (11,[3],[1.0])|(1,[0],[1.0])|    (3,[0],[1.0])|(1,[0],[1.0])| (8,[1],[1.0])|      (2,[1],[1.0])|   (5,[0],[1.0])|           (4,[0],[1.0])|    (2,[0],[1.0])|         (3,[0],[1.0])|   (7,[1],[1.0])|        (7,[2],[1.0])|        (1,[0],[1.0])|     (1,[0],[1.0])|(1,[0],[1.0])|          (3,[0],[1.0])|          (4,[0],[1.0])|   (4,[0],[1.0])| (2,[1],[1.0])|\n",
      "|  Jan|          3|   Friday|     Ford|       Urban|          Friday|         Jan|                 3|  Male|      Married| 28|Policy Holder|   Sedan - Liability|          Sport|more than 69000|           0|       11|       400|           1|        more than 30|     more than 30|                 1|     7 years|         31 to 35|               No|            No| External|               none|          no change|   1 vehicle|1994| Liability|        0.0|            1.0|       6.0|               0.0|                   4.0|               1.0|      0.0|                0.0|        0.0|             1.0|                  1.0|               2.0|                       0.0|                    0.0|                     2.0|               0.0|                    0.0|                    0.0|                 0.0|            0.0|                      0.0|                      0.0|               0.0|             1.0|(11,[0],[1.0])|(6,[1],[1.0])|(18,[6],[1.0])|   (1,[0],[1.0])|       (6,[4],[1.0])|  (11,[1],[1.0])|(1,[0],[1.0])|    (3,[0],[1.0])|(1,[0],[1.0])| (8,[1],[1.0])|      (2,[1],[1.0])|   (5,[2],[1.0])|           (4,[0],[1.0])|    (2,[0],[1.0])|         (3,[2],[1.0])|   (7,[0],[1.0])|        (7,[0],[1.0])|        (1,[0],[1.0])|     (1,[0],[1.0])|(1,[0],[1.0])|          (3,[0],[1.0])|          (4,[0],[1.0])|   (4,[0],[1.0])| (2,[1],[1.0])|\n",
      "|  Jan|          5|   Monday|     Ford|       Urban|        Thursday|         Feb|                 1|  Male|      Married| 61|Policy Holder|   Sedan - Liability|          Sport|more than 69000|           0|        3|       400|           1|        more than 30|     more than 30|              none| more than 7|         51 to 65|               No|            No| External|               none|          no change|   1 vehicle|1994| Liability|        0.0|            0.0|       6.0|               0.0|                   3.0|               6.0|      0.0|                0.0|        0.0|             1.0|                  1.0|               2.0|                       0.0|                    0.0|                     1.0|               1.0|                    3.0|                    0.0|                 0.0|            0.0|                      0.0|                      0.0|               0.0|             1.0|(11,[0],[1.0])|(6,[0],[1.0])|(18,[6],[1.0])|   (1,[0],[1.0])|       (6,[3],[1.0])|  (11,[6],[1.0])|(1,[0],[1.0])|    (3,[0],[1.0])|(1,[0],[1.0])| (8,[1],[1.0])|      (2,[1],[1.0])|   (5,[2],[1.0])|           (4,[0],[1.0])|    (2,[0],[1.0])|         (3,[1],[1.0])|   (7,[1],[1.0])|        (7,[3],[1.0])|        (1,[0],[1.0])|     (1,[0],[1.0])|(1,[0],[1.0])|          (3,[0],[1.0])|          (4,[0],[1.0])|   (4,[0],[1.0])| (2,[1],[1.0])|\n",
      "|  Aug|          4|  Tuesday|     Ford|       Urban|          Monday|         Aug|                 5|  Male|       Single| 38|Policy Holder|   Sedan - Liability|          Sport|more than 69000|           0|       16|       400|           1|        more than 30|     more than 30|              none|     6 years|         36 to 40|               No|            No| External|               none|          no change|   1 vehicle|1994| Liability|       11.0|            2.0|       6.0|               0.0|                   0.0|              11.0|      0.0|                1.0|        0.0|             1.0|                  1.0|               2.0|                       0.0|                    0.0|                     1.0|               2.0|                    1.0|                    0.0|                 0.0|            0.0|                      0.0|                      0.0|               0.0|             1.0|    (11,[],[])|(6,[2],[1.0])|(18,[6],[1.0])|   (1,[0],[1.0])|       (6,[0],[1.0])|      (11,[],[])|(1,[0],[1.0])|    (3,[1],[1.0])|(1,[0],[1.0])| (8,[1],[1.0])|      (2,[1],[1.0])|   (5,[2],[1.0])|           (4,[0],[1.0])|    (2,[0],[1.0])|         (3,[1],[1.0])|   (7,[2],[1.0])|        (7,[1],[1.0])|        (1,[0],[1.0])|     (1,[0],[1.0])|(1,[0],[1.0])|          (3,[0],[1.0])|          (4,[0],[1.0])|   (4,[0],[1.0])| (2,[1],[1.0])|\n",
      "|  Apr|          4| Thursday|     Ford|       Urban|       Wednesday|         May|                 1|  Male|      Married| 41|Policy Holder|  Sedan - All Perils|          Sedan|more than 69000|           0|       15|       400|           4|        more than 30|     more than 30|              none|     7 years|         36 to 40|               No|            No| External|               none|          no change|   1 vehicle|1994|All Perils|        7.0|            3.0|       6.0|               0.0|                   2.0|               0.0|      0.0|                0.0|        0.0|             2.0|                  0.0|               2.0|                       0.0|                    0.0|                     1.0|               0.0|                    1.0|                    0.0|                 0.0|            0.0|                      0.0|                      0.0|               0.0|             2.0|(11,[7],[1.0])|(6,[3],[1.0])|(18,[6],[1.0])|   (1,[0],[1.0])|       (6,[2],[1.0])|  (11,[0],[1.0])|(1,[0],[1.0])|    (3,[0],[1.0])|(1,[0],[1.0])| (8,[2],[1.0])|      (2,[0],[1.0])|   (5,[2],[1.0])|           (4,[0],[1.0])|    (2,[0],[1.0])|         (3,[1],[1.0])|   (7,[0],[1.0])|        (7,[1],[1.0])|        (1,[0],[1.0])|     (1,[0],[1.0])|(1,[0],[1.0])|          (3,[0],[1.0])|          (4,[0],[1.0])|   (4,[0],[1.0])|     (2,[],[])|\n",
      "|  Jul|          5|   Sunday|Chevrolet|       Urban|       Wednesday|         Aug|                 1|Female|      Married| 28|  Third Party|   Sedan - Collision|          Sedan| 20000 to 29000|           0|        6|       400|           1|        more than 30|     more than 30|              none|     7 years|         31 to 35|               No|            No| External|             1 to 2|          no change|   1 vehicle|1994| Collision|        6.0|            6.0|       4.0|               0.0|                   2.0|              11.0|      1.0|                0.0|        1.0|             0.0|                  0.0|               0.0|                       0.0|                    0.0|                     1.0|               0.0|                    0.0|                    0.0|                 0.0|            0.0|                      2.0|                      0.0|               0.0|             0.0|(11,[6],[1.0])|    (6,[],[])|(18,[4],[1.0])|   (1,[0],[1.0])|       (6,[2],[1.0])|      (11,[],[])|    (1,[],[])|    (3,[0],[1.0])|    (1,[],[])| (8,[0],[1.0])|      (2,[0],[1.0])|   (5,[0],[1.0])|           (4,[0],[1.0])|    (2,[0],[1.0])|         (3,[1],[1.0])|   (7,[0],[1.0])|        (7,[0],[1.0])|        (1,[0],[1.0])|     (1,[0],[1.0])|(1,[0],[1.0])|          (3,[2],[1.0])|          (4,[0],[1.0])|   (4,[0],[1.0])| (2,[0],[1.0])|\n",
      "|  May|          4| Thursday|  Pontiac|       Urban|          Monday|         May|                 5|  Male|       Single| 32|Policy Holder|   Sedan - Liability|          Sport| 20000 to 29000|           0|        6|       400|           1|        more than 30|     more than 30|                 1|     7 years|         31 to 35|               No|            No| External|               none|          no change|   1 vehicle|1994| Liability|        1.0|            3.0|       0.0|               0.0|                   0.0|               0.0|      0.0|                1.0|        0.0|             1.0|                  1.0|               0.0|                       0.0|                    0.0|                     2.0|               0.0|                    0.0|                    0.0|                 0.0|            0.0|                      0.0|                      0.0|               0.0|             1.0|(11,[1],[1.0])|(6,[3],[1.0])|(18,[0],[1.0])|   (1,[0],[1.0])|       (6,[0],[1.0])|  (11,[0],[1.0])|(1,[0],[1.0])|    (3,[1],[1.0])|(1,[0],[1.0])| (8,[1],[1.0])|      (2,[1],[1.0])|   (5,[0],[1.0])|           (4,[0],[1.0])|    (2,[0],[1.0])|         (3,[2],[1.0])|   (7,[0],[1.0])|        (7,[0],[1.0])|        (1,[0],[1.0])|     (1,[0],[1.0])|(1,[0],[1.0])|          (3,[0],[1.0])|          (4,[0],[1.0])|   (4,[0],[1.0])| (2,[1],[1.0])|\n",
      "|  Apr|          4|   Monday|    Honda|       Urban|         Tuesday|         May|                 1|  Male|      Married| 30|  Third Party|   Sedan - Liability|          Sport|more than 69000|           0|        2|       400|           2|        more than 30|     more than 30|            2 to 4|     6 years|         31 to 35|               No|            No| External|        more than 5|          no change|   1 vehicle|1994| Liability|        7.0|            0.0|       2.0|               0.0|                   1.0|               0.0|      0.0|                0.0|        1.0|             1.0|                  1.0|               2.0|                       0.0|                    0.0|                     0.0|               2.0|                    0.0|                    0.0|                 0.0|            0.0|                      1.0|                      0.0|               0.0|             1.0|(11,[7],[1.0])|(6,[0],[1.0])|(18,[2],[1.0])|   (1,[0],[1.0])|       (6,[1],[1.0])|  (11,[0],[1.0])|(1,[0],[1.0])|    (3,[0],[1.0])|    (1,[],[])| (8,[1],[1.0])|      (2,[1],[1.0])|   (5,[2],[1.0])|           (4,[0],[1.0])|    (2,[0],[1.0])|         (3,[0],[1.0])|   (7,[2],[1.0])|        (7,[0],[1.0])|        (1,[0],[1.0])|     (1,[0],[1.0])|(1,[0],[1.0])|          (3,[1],[1.0])|          (4,[0],[1.0])|   (4,[0],[1.0])| (2,[1],[1.0])|\n",
      "|  Apr|          2|   Friday|    Mazda|       Urban|         Tuesday|         May|                 1|  Male|      Married| 40|Policy Holder|   Sedan - Liability|          Sport| 20000 to 29000|           0|        3|       400|           1|        more than 30|     more than 30|                 1| more than 7|         36 to 40|               No|            No| External|        more than 5|          no change|   1 vehicle|1994| Liability|        7.0|            1.0|       3.0|               0.0|                   1.0|               0.0|      0.0|                0.0|        0.0|             1.0|                  1.0|               0.0|                       0.0|                    0.0|                     2.0|               1.0|                    1.0|                    0.0|                 0.0|            0.0|                      1.0|                      0.0|               0.0|             1.0|(11,[7],[1.0])|(6,[1],[1.0])|(18,[3],[1.0])|   (1,[0],[1.0])|       (6,[1],[1.0])|  (11,[0],[1.0])|(1,[0],[1.0])|    (3,[0],[1.0])|(1,[0],[1.0])| (8,[1],[1.0])|      (2,[1],[1.0])|   (5,[0],[1.0])|           (4,[0],[1.0])|    (2,[0],[1.0])|         (3,[2],[1.0])|   (7,[1],[1.0])|        (7,[1],[1.0])|        (1,[0],[1.0])|     (1,[0],[1.0])|(1,[0],[1.0])|          (3,[1],[1.0])|          (4,[0],[1.0])|   (4,[0],[1.0])| (2,[1],[1.0])|\n",
      "|  Jan|          2| Saturday|Chevrolet|       Urban|          Monday|         Jan|                 2|  Male|      Married| 47|Policy Holder|   Sedan - Collision|          Sedan| 20000 to 29000|           0|       13|       400|           2|        more than 30|     more than 30|                 1| more than 7|         41 to 50|               No|            No| External|               none|       4 to 8 years|  2 vehicles|1994| Collision|        0.0|            5.0|       4.0|               0.0|                   0.0|               1.0|      0.0|                0.0|        0.0|             0.0|                  0.0|               0.0|                       0.0|                    0.0|                     2.0|               1.0|                    2.0|                    0.0|                 0.0|            0.0|                      0.0|                      1.0|               1.0|             0.0|(11,[0],[1.0])|(6,[5],[1.0])|(18,[4],[1.0])|   (1,[0],[1.0])|       (6,[0],[1.0])|  (11,[1],[1.0])|(1,[0],[1.0])|    (3,[0],[1.0])|(1,[0],[1.0])| (8,[0],[1.0])|      (2,[0],[1.0])|   (5,[0],[1.0])|           (4,[0],[1.0])|    (2,[0],[1.0])|         (3,[2],[1.0])|   (7,[1],[1.0])|        (7,[2],[1.0])|        (1,[0],[1.0])|     (1,[0],[1.0])|(1,[0],[1.0])|          (3,[0],[1.0])|          (4,[1],[1.0])|   (4,[1],[1.0])| (2,[0],[1.0])|\n",
      "+-----+-----------+---------+---------+------------+----------------+------------+------------------+------+-------------+---+-------------+--------------------+---------------+---------------+------------+---------+----------+------------+--------------------+-----------------+------------------+------------+-----------------+-----------------+--------------+---------+-------------------+-------------------+------------+----+----------+-----------+---------------+----------+------------------+----------------------+------------------+---------+-------------------+-----------+----------------+---------------------+------------------+--------------------------+-----------------------+------------------------+------------------+-----------------------+-----------------------+--------------------+---------------+-------------------------+-------------------------+------------------+----------------+--------------+-------------+--------------+----------------+--------------------+----------------+-------------+-----------------+-------------+--------------+-------------------+----------------+------------------------+-----------------+----------------------+----------------+---------------------+---------------------+------------------+-------------+-----------------------+-----------------------+----------------+--------------+\n",
      "only showing top 20 rows\n",
      "\n"
     ]
    }
   ],
   "source": [
    "df.show()"
   ]
  },
  {
   "cell_type": "code",
   "execution_count": 52,
   "id": "53bc83b6",
   "metadata": {},
   "outputs": [],
   "source": [
    "from pyspark.ml.feature import VectorAssembler\n",
    "\n",
    "assembler = VectorAssembler(inputCols=['Month_Index','WeekOfMonth', 'DayOfWeek_Index','Make_Index','AccidentArea_Index','DayOfWeekClaimed_Index','WeekOfMonthClaimed','MonthClaimed_Index','Sex_Index','MaritalStatus_Index','Age','Fault_Index','PolicyType_Index','VehicleCategory_Index','VehiclePrice_Index','RepNumber','Deductible','DriverRating','Days_Policy_Accident_Index','Days_Policy_Claim_Index','PastNumberOfClaims_Index','AgeOfVehicle_Index','AgeOfPolicyHolder_Index', 'PoliceReportFiled_Index','WitnessPresent_Index','AgentType_Index','NumberOfSuppliments_Index','AddressChange_Claim_Index','NumberOfCars_Index','BasePolicy_Index','Month_OHE', 'DayOfWeek_OHE','Make_OHE','AccidentArea_OHE','DayOfWeekClaimed_OHE','MonthClaimed_OHE','Sex_OHE','MaritalStatus_OHE','Fault_OHE','PolicyType_OHE','VehicleCategory_OHE','VehiclePrice_OHE','Days_Policy_Accident_OHE','Days_Policy_Calim','PastNumberOfClaims_OHE','AgeOfVehicle_OHE','AgeOfPolicyHolder_OHE', 'PolicyReportFiled_OHE','WitnessPresent_OHE','AgentType_OHE','NumberOfSuppliments_OHE','AddressChange_Claim_OHE','NumberOfCars_OHE','BasePolicy_OHE'],outputCol='features')\n",
    "                                       \n",
    "df_final = assembler.transform(df)                                     "
   ]
  },
  {
   "cell_type": "code",
   "execution_count": 53,
   "id": "e586dfe5",
   "metadata": {},
   "outputs": [
    {
     "name": "stdout",
     "output_type": "stream",
     "text": [
      "+--------------------+------------+\n",
      "|            features|FraudFound_P|\n",
      "+--------------------+------------+\n",
      "|(142,[0,1,2,3,5,6...|           0|\n",
      "|(142,[1,2,3,6,7,9...|           0|\n",
      "|(142,[0,1,2,3,5,6...|           0|\n",
      "|(142,[0,1,2,3,4,5...|           0|\n",
      "|(142,[1,3,5,6,7,8...|           0|\n",
      "|(142,[0,1,2,3,5,6...|           0|\n",
      "|(142,[0,1,2,3,6,7...|           0|\n",
      "|(142,[0,1,2,3,5,6...|           0|\n",
      "|(142,[0,1,2,3,5,6...|           0|\n",
      "|(142,[0,1,2,3,5,6...|           0|\n",
      "|(142,[0,1,3,6,7,1...|           0|\n",
      "|(142,[1,2,3,5,6,7...|           0|\n",
      "|(142,[1,3,5,6,7,1...|           0|\n",
      "|(142,[0,1,2,3,6,7...|           0|\n",
      "|(142,[0,1,2,3,5,6...|           0|\n",
      "|(142,[0,1,2,3,5,6...|           0|\n",
      "|(142,[0,1,2,6,9,1...|           0|\n",
      "|(142,[0,1,3,5,6,1...|           0|\n",
      "|(142,[0,1,2,3,5,6...|           0|\n",
      "|(142,[1,2,3,6,7,1...|           0|\n",
      "+--------------------+------------+\n",
      "only showing top 20 rows\n",
      "\n"
     ]
    }
   ],
   "source": [
    "df_final.select('features','FraudFound_P').show()"
   ]
  },
  {
   "cell_type": "code",
   "execution_count": 54,
   "id": "052b3112",
   "metadata": {},
   "outputs": [],
   "source": [
    "model_df = df_final.select(['features','FraudFound_P'])\n",
    "model_df = model_df.withColumnRenamed(\"FraudFound_P\",\"label\")"
   ]
  },
  {
   "cell_type": "code",
   "execution_count": 55,
   "id": "cc4199bb",
   "metadata": {},
   "outputs": [
    {
     "name": "stdout",
     "output_type": "stream",
     "text": [
      "root\n",
      " |-- features: vector (nullable = true)\n",
      " |-- label: integer (nullable = true)\n",
      "\n"
     ]
    }
   ],
   "source": [
    "model_df.printSchema()"
   ]
  },
  {
   "cell_type": "code",
   "execution_count": 56,
   "id": "e39ad8de",
   "metadata": {},
   "outputs": [],
   "source": [
    "training_df,test_df = model_df.randomSplit([0.80,0.20])"
   ]
  },
  {
   "cell_type": "code",
   "execution_count": 57,
   "id": "a3133034",
   "metadata": {},
   "outputs": [
    {
     "name": "stderr",
     "output_type": "stream",
     "text": [
      "                                                                                \r"
     ]
    }
   ],
   "source": [
    "df_class_0 = training_df[training_df['label'] == 0]\n",
    "df_class_1 = training_df[training_df['label'] == 1]\n",
    "count_0 = df_class_0.count()\n",
    "count_1 = df_class_1.count() \n",
    "ratio = count_0/count_1\n",
    "df_1_oversampled = df_class_1.sample(withReplacement=True, fraction=2*ratio, seed=1)\n",
    "model_df= df_class_0.unionAll(df_1_oversampled)\n"
   ]
  },
  {
   "cell_type": "code",
   "execution_count": 58,
   "id": "ae310eed",
   "metadata": {},
   "outputs": [
    {
     "name": "stdout",
     "output_type": "stream",
     "text": [
      "0.5027518863737239\n"
     ]
    }
   ],
   "source": [
    "model_df_class_0 = model_df[training_df['label'] == 0]\n",
    "model_df_class_1 = model_df[training_df['label'] == 1]\n",
    "count_00 = model_df_class_0.count()\n",
    "count_11 = model_df_class_1.count() \n",
    "new_ratio = count_00/count_11\n",
    "print(new_ratio)"
   ]
  },
  {
   "cell_type": "code",
   "execution_count": 64,
   "id": "12e89b88",
   "metadata": {},
   "outputs": [
    {
     "name": "stdout",
     "output_type": "stream",
     "text": [
      "Accuracy: 0.836134329680716\n",
      "Precision: 0.8429723776018316\n",
      "Recall: 0.836134329680716\n"
     ]
    }
   ],
   "source": [
    "from pyspark.ml.classification import LogisticRegression\n",
    "log_reg=LogisticRegression(featuresCol = 'features', labelCol ='label')\n",
    "lr_model = log_reg.fit(model_df)\n",
    "lr_summary=lr_model.summary\n",
    "print('Accuracy:',lr_summary.accuracy)\n",
    "print('Precision:',lr_summary.weightedPrecision)\n",
    "print('Recall:',lr_summary.weightedRecall)\n",
    "\n"
   ]
  },
  {
   "cell_type": "code",
   "execution_count": 65,
   "id": "35be1702",
   "metadata": {},
   "outputs": [
    {
     "name": "stdout",
     "output_type": "stream",
     "text": [
      "+-----+----------+\n",
      "|label|prediction|\n",
      "+-----+----------+\n",
      "|    0|       0.0|\n",
      "|    0|       0.0|\n",
      "|    0|       0.0|\n",
      "|    0|       0.0|\n",
      "|    0|       0.0|\n",
      "|    1|       1.0|\n",
      "|    0|       1.0|\n",
      "|    0|       0.0|\n",
      "|    0|       0.0|\n",
      "|    0|       0.0|\n",
      "|    0|       0.0|\n",
      "|    0|       0.0|\n",
      "|    0|       0.0|\n",
      "|    0|       0.0|\n",
      "|    0|       0.0|\n",
      "|    1|       1.0|\n",
      "|    0|       0.0|\n",
      "|    0|       0.0|\n",
      "|    1|       0.0|\n",
      "|    0|       0.0|\n",
      "|    0|       0.0|\n",
      "|    0|       0.0|\n",
      "|    0|       0.0|\n",
      "|    0|       0.0|\n",
      "|    1|       0.0|\n",
      "|    0|       1.0|\n",
      "|    0|       1.0|\n",
      "|    0|       1.0|\n",
      "|    0|       1.0|\n",
      "|    0|       1.0|\n",
      "|    0|       1.0|\n",
      "|    0|       1.0|\n",
      "|    0|       0.0|\n",
      "|    0|       0.0|\n",
      "|    0|       0.0|\n",
      "|    0|       0.0|\n",
      "|    0|       0.0|\n",
      "|    0|       0.0|\n",
      "|    0|       0.0|\n",
      "|    0|       0.0|\n",
      "|    0|       0.0|\n",
      "|    0|       0.0|\n",
      "|    0|       0.0|\n",
      "|    0|       0.0|\n",
      "|    0|       0.0|\n",
      "|    0|       0.0|\n",
      "|    0|       0.0|\n",
      "|    0|       0.0|\n",
      "|    0|       0.0|\n",
      "|    0|       0.0|\n",
      "+-----+----------+\n",
      "only showing top 50 rows\n",
      "\n"
     ]
    }
   ],
   "source": [
    "predictions = lr_model.transform(test_df)\n",
    "predictions.select('label','prediction').show(50)"
   ]
  },
  {
   "cell_type": "code",
   "execution_count": 67,
   "id": "55b12ebb",
   "metadata": {},
   "outputs": [
    {
     "name": "stderr",
     "output_type": "stream",
     "text": [
      "                                                                                \r"
     ]
    },
    {
     "name": "stdout",
     "output_type": "stream",
     "text": [
      "Accuracy: 0.8313494993649763\n",
      "Precision: 0.8400650512022263\n",
      "Recall: 0.8313494993649763\n"
     ]
    },
    {
     "name": "stderr",
     "output_type": "stream",
     "text": [
      "                                                                                \r"
     ]
    }
   ],
   "source": [
    "from pyspark.ml.classification import RandomForestClassifier\n",
    "rf = RandomForestClassifier(featuresCol = 'features', labelCol = 'label')\n",
    "rfModel = rf.fit(model_df)\n",
    "rf_summary= rfModel.summary\n",
    "print('Accuracy:',rf_summary.accuracy)\n",
    "print('Precision:', rf_summary.weightedPrecision)\n",
    "print('Recall:',rf_summary.weightedRecall)"
   ]
  },
  {
   "cell_type": "code",
   "execution_count": 68,
   "id": "8f877100",
   "metadata": {
    "scrolled": true
   },
   "outputs": [
    {
     "name": "stdout",
     "output_type": "stream",
     "text": [
      "+-----+----------+\n",
      "|label|prediction|\n",
      "+-----+----------+\n",
      "|    0|       0.0|\n",
      "|    0|       0.0|\n",
      "|    0|       0.0|\n",
      "|    0|       0.0|\n",
      "|    0|       0.0|\n",
      "|    1|       1.0|\n",
      "|    0|       1.0|\n",
      "|    0|       0.0|\n",
      "|    0|       0.0|\n",
      "|    0|       1.0|\n",
      "|    0|       0.0|\n",
      "|    0|       0.0|\n",
      "|    0|       0.0|\n",
      "|    0|       0.0|\n",
      "|    0|       0.0|\n",
      "|    1|       1.0|\n",
      "|    0|       0.0|\n",
      "|    0|       0.0|\n",
      "|    1|       0.0|\n",
      "|    0|       0.0|\n",
      "|    0|       0.0|\n",
      "|    0|       0.0|\n",
      "|    0|       0.0|\n",
      "|    0|       0.0|\n",
      "|    1|       1.0|\n",
      "|    0|       1.0|\n",
      "|    0|       1.0|\n",
      "|    0|       1.0|\n",
      "|    0|       1.0|\n",
      "|    0|       1.0|\n",
      "|    0|       1.0|\n",
      "|    0|       1.0|\n",
      "|    0|       0.0|\n",
      "|    0|       0.0|\n",
      "|    0|       0.0|\n",
      "|    0|       0.0|\n",
      "|    0|       0.0|\n",
      "|    0|       0.0|\n",
      "|    0|       0.0|\n",
      "|    0|       0.0|\n",
      "|    0|       0.0|\n",
      "|    0|       0.0|\n",
      "|    0|       0.0|\n",
      "|    0|       0.0|\n",
      "|    0|       0.0|\n",
      "|    0|       0.0|\n",
      "|    0|       0.0|\n",
      "|    0|       0.0|\n",
      "|    0|       0.0|\n",
      "|    0|       0.0|\n",
      "+-----+----------+\n",
      "only showing top 50 rows\n",
      "\n"
     ]
    }
   ],
   "source": [
    "predictions = rfModel.transform(test_df)\n",
    "predictions.select('label','prediction').show(50)"
   ]
  },
  {
   "cell_type": "code",
   "execution_count": null,
   "id": "d4b653dd",
   "metadata": {},
   "outputs": [],
   "source": []
  }
 ],
 "metadata": {
  "kernelspec": {
   "display_name": "Python 3 (ipykernel)",
   "language": "python",
   "name": "python3"
  },
  "language_info": {
   "codemirror_mode": {
    "name": "ipython",
    "version": 3
   },
   "file_extension": ".py",
   "mimetype": "text/x-python",
   "name": "python",
   "nbconvert_exporter": "python",
   "pygments_lexer": "ipython3",
   "version": "3.9.7"
  }
 },
 "nbformat": 4,
 "nbformat_minor": 5
}
